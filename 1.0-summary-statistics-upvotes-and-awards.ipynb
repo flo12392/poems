{
 "cells": [
  {
   "cell_type": "markdown",
   "metadata": {},
   "source": [
    "I am a really big fan of the poems by /u/poem_for_your_sprog on Reddit. For those of you who are not familiar with him yet; he writes short poems as responses to others on AskReddit threads. To give you an example, one that I particularly like is the following, which was written in response to a thread of gripping stories by some ICU workers, who despite their best efforts are not always able to save every patient they meet:\n",
    "\n",
    "```\n",
    "You’ll weather the wind and the rain and the rough -\n",
    "And sometimes you’ll try but it won’t be enough.\n",
    "\n",
    "You did what you could,\n",
    "but it’s not up to you.\n",
    "\n",
    "You did what you could,\n",
    "and that’s all you can do.\n",
    "```\n",
    "\n",
    "I always find it difficult why I love these poems so much. Some, like the above, stand out in simplicity; six short lines that bring a message that speaks to many of us. But there's more elaborate ones, and really funny ones too. I think the one thing that they all have in common is their rhythm, or their 'flow'.\n",
    "\n",
    "However, since I am not as good with words as /u/poem_for_your_sprog, let me use numbers to analyze some of the work he has done to date!"
   ]
  },
  {
   "cell_type": "code",
   "execution_count": null,
   "metadata": {},
   "outputs": [],
   "source": [
    "%%capture\n",
    "%load_ext autoreload\n",
    "%autoreload 2"
   ]
  },
  {
   "cell_type": "code",
   "execution_count": null,
   "metadata": {},
   "outputs": [],
   "source": [
    "import string\n",
    "import datetime as dt\n",
    "import pandas as pd\n",
    "import numpy as np\n",
    "import time\n",
    "import re\n",
    "import matplotlib.pyplot as plt \n",
    "from plotly.offline import download_plotlyjs, init_notebook_mode, plot, iplot\n",
    "import plotly.graph_objs as go\n",
    "init_notebook_mode(connected=False)\n",
    "\n",
    "from src.utils import print2_list, print2\n",
    "from src.plotly import plot_histogram, plot_timeline, plot_horizontal_bar\n",
    "from src.data import load_data\n",
    "\n",
    "pd.set_option('display.max_rows', 500)\n",
    "pd.set_option('display.max_columns', 500)\n",
    "pd.set_option('display.width', 1000)\n",
    "pd.set_option('display.max_colwidth', -1)"
   ]
  },
  {
   "cell_type": "code",
   "execution_count": null,
   "metadata": {},
   "outputs": [],
   "source": [
    "%%capture\n",
    "import nltk\n",
    "from nltk.tokenize import RegexpTokenizer\n",
    "nltk.download('stopwords')\n",
    "nltk.download('punkt')"
   ]
  },
  {
   "cell_type": "markdown",
   "metadata": {},
   "source": [
    "# Load the data"
   ]
  },
  {
   "cell_type": "code",
   "execution_count": null,
   "metadata": {},
   "outputs": [],
   "source": [
    "df = load_data('data/comments.txt', False)"
   ]
  },
  {
   "cell_type": "markdown",
   "metadata": {},
   "source": [
    "# Comments per day"
   ]
  },
  {
   "cell_type": "markdown",
   "metadata": {},
   "source": [
    "Let's start by simply looking at the amount of poems over time. We can see below that on the extraordinarily productive days, sprog provides us with about 5 or 6 poems, and his productivity seems to have increased somewhat over time. The outlier of 12 comments in June is the ['Ask Me Anything'](https://www.reddit.com/r/books/comments/3aungz/hi_im_sam_garland_aka_upoem_for_your_sprog_ive/), or AMA in short, where he answered questions of fellow Redditors."
   ]
  },
  {
   "cell_type": "code",
   "execution_count": null,
   "metadata": {},
   "outputs": [],
   "source": [
    "df_comments_per_day= df.groupby(['date'])['date'].agg(n='count')\n",
    "idx = pd.date_range(df_comments_per_day.index.min(), dt.datetime.today())\n",
    "df_comments_per_day = df_comments_per_day.reindex(idx, fill_value=0)"
   ]
  },
  {
   "cell_type": "code",
   "execution_count": null,
   "metadata": {},
   "outputs": [],
   "source": [
    "fig = plot_timeline(\n",
    "    x=df_comments_per_day.index,\n",
    "    y=df_comments_per_day['n'],\n",
    "    title='Number of comments on Reddit per day by u/poem_for_your_sprog',\n",
    "    xaxis_title='Day',\n",
    "    yaxis_title='Number of comments',\n",
    "    annotations=[\n",
    "        go.layout.Annotation(\n",
    "            x='2015-6-23',\n",
    "            y=12,\n",
    "            xref=\"x\",\n",
    "            yref=\"y\",\n",
    "            text=\"AMA\",\n",
    "            showarrow=True,\n",
    "            arrowhead=2,\n",
    "            ax=-50,\n",
    "            ay=0\n",
    "        )\n",
    "    ]\n",
    ")\n",
    "fig.show()"
   ]
  },
  {
   "cell_type": "markdown",
   "metadata": {},
   "source": [
    "This plot was usful to determine the AMA outlier, so lets remove the observations from that day from our dataset. However, the daily plot does not really help us in identiofying a trend, so let's aggregate the daya to monthly buckets to get a clearer view:"
   ]
  },
  {
   "cell_type": "code",
   "execution_count": null,
   "metadata": {},
   "outputs": [],
   "source": [
    "# Remove AMA comments\n",
    "df = df[df['date']!=dt.date(2015,6,23)]\n",
    "df.reset_index(inplace=True)"
   ]
  },
  {
   "cell_type": "code",
   "execution_count": null,
   "metadata": {},
   "outputs": [],
   "source": [
    "comments_per_month = df_comments_per_day.groupby(pd.Grouper(freq='M'))['n'].sum()"
   ]
  },
  {
   "cell_type": "code",
   "execution_count": null,
   "metadata": {},
   "outputs": [],
   "source": [
    "fig = plot_timeline(\n",
    "    x=comments_per_month.index,\n",
    "    y=comments_per_month,\n",
    "    title='Number of comments on Reddit per month by u/poem_for_your_sprog',\n",
    "    xaxis_title='Month',\n",
    "    yaxis_title='Number of comments'\n",
    ")\n",
    "fig.show()"
   ]
  },
  {
   "cell_type": "markdown",
   "metadata": {},
   "source": [
    "# Average line length"
   ]
  },
  {
   "cell_type": "markdown",
   "metadata": {},
   "source": [
    "Sprog writes both poems with very short lines, as well as poems with longer ones. A histogram of the average number of characters on a line per poem should give us a better idea of the distribution:"
   ]
  },
  {
   "cell_type": "code",
   "execution_count": null,
   "metadata": {
    "scrolled": true
   },
   "outputs": [],
   "source": [
    "fig = plot_histogram(\n",
    "    x = df['average_line_length'],    \n",
    "    params = {'xbins':dict(start=0,end=200,size=1)},\n",
    "    title = 'Histogram of the average characters per line by u/poem_for_your_sprog',\n",
    "    xaxis_title = 'Day',\n",
    "    yaxis_title = 'Number of characters'\n",
    ")\n",
    "\n",
    "fig.show()"
   ]
  },
  {
   "cell_type": "markdown",
   "metadata": {},
   "source": [
    "There are three clear outliers, which upon further inspection are not poems, or contain a lot of text alongside the poem. We will filter those out for now. Furthermore, the peak around 46 is interesting to see. My initial guess was that some rhymes are written in the rhyme scheme `abab`, while others are split out over shorter lines in the rhyme shape `abcb defe`, so the former would on average have lines twice as long as the latter. But that does not seem to hold; then the first peak should be around 23 instead of 30.\n",
    "\n",
    "It turns out that these are a set of poems that sprog usually writes in 'Anapestic tetrameter'. Anapestic tetrameter is a metre with four anapestical feet per line. An anapestical foot is two unstressed syllables, followed by a stressed one. So, denoting a stressed syllable as / and an unstressed syllable as x, an anapestic tetrameter can de denoted as follows:\n",
    "\n",
    "> x x / x x / x x / x x /\n",
    "\n",
    "However, sprog usually omits the first unstressed syllable, so it becomes:\n",
    "\n",
    ">   x / x x / x x / x x /\n",
    "\n",
    "To get a better idea, here is an example of one of these poems:\n",
    "\n",
    "```\n",
    "you don't need a measure of treasure to fly\n",
    "to sporting success on a broom in the sky...\n",
    "to eros alone in the sight of the stars...\n",
    "to space on a ship that's intended for mars.\n",
    "you don't need a mountain of money to go\n",
    "where peter and susan await in the snow...\n",
    "where planets contend and defend for a spice...\n",
    "where alice adventures with hatters and mice.\n",
    "you don't need a wallet of wealth and of worth\n",
    "to start on a journey across middle earth...\n",
    "to fight in the night with your sword and your steed.\n",
    "you don't need a fund or a fortune to read.\n",
    "```"
   ]
  },
  {
   "cell_type": "code",
   "execution_count": null,
   "metadata": {},
   "outputs": [],
   "source": [
    "df = df[df['average_line_length']<55]"
   ]
  },
  {
   "cell_type": "code",
   "execution_count": null,
   "metadata": {},
   "outputs": [],
   "source": [
    "fig = plot_histogram(\n",
    "    x = df['number_of_lines'],    \n",
    "    params = {'xbins':dict(size=1)},\n",
    "    title = 'Histogram of the number of lines per poem by u/poem_for_your_sprog',\n",
    "    xaxis_title = 'Number of lines',\n",
    "    yaxis_title = 'Number of comments'\n",
    ")\n",
    "\n",
    "fig.show()"
   ]
  },
  {
   "cell_type": "markdown",
   "metadata": {},
   "source": [
    "That's quite a wide spread! Some poems have on average lines that are three times longer than other poems. This makes one wonder what those poems look like.. Printing many poems here might not be the best solution, so let's put the 100 poems with the shortest average line length and the the 100 poems with the longest average line length in a plot that allows you to read the poems by hovering over the points. "
   ]
  },
  {
   "cell_type": "code",
   "execution_count": null,
   "metadata": {},
   "outputs": [],
   "source": [
    "df = df[df['poem'].apply(len)>0]\n",
    "df = df[df['number_of_lines']>1]"
   ]
  },
  {
   "cell_type": "code",
   "execution_count": null,
   "metadata": {},
   "outputs": [],
   "source": [
    "df_short = df.sort_values('average_line_length').head(100)\n",
    "df_long = df.sort_values('average_line_length',ascending=False).head(100)\n",
    "df_short_long = pd.concat([df_short,df_long])"
   ]
  },
  {
   "cell_type": "code",
   "execution_count": null,
   "metadata": {},
   "outputs": [],
   "source": [
    "fig = go.Figure(\n",
    "        data=go.Scatter(\n",
    "            x=df_short_long['average_line_length'],\n",
    "            y=df_short_long['ups'],\n",
    "            mode='markers',\n",
    "            marker=dict(\n",
    "                size = 8,\n",
    "                line_width=1,\n",
    "                opacity=0.7\n",
    "            ),\n",
    "            hoverinfo = 'text',\n",
    "            text=[re.sub('>','<br>',comment) for comment in df_short_long['poem']]\n",
    "        )\n",
    ")\n",
    "\n",
    "fig.update_layout(\n",
    "    title='100 poems with the shortest and 100 poems with the longest line length <br> by u/poem_for_your_sprog',\n",
    "    title_x=0.5,\n",
    "    template='simple_white',\n",
    "    xaxis_title='Average line length',\n",
    "    yaxis_title='Upvotes'\n",
    ")\n",
    "fig.show()"
   ]
  },
  {
   "cell_type": "markdown",
   "metadata": {},
   "source": [
    "# Upvotes & Awards"
   ]
  },
  {
   "cell_type": "markdown",
   "metadata": {},
   "source": [
    "On Redit, there are two ways fo showing appreciation for a comment. One can upvote a post, of spend some actual money to give the post an award. Let's start by simply counting the upvotes:"
   ]
  },
  {
   "cell_type": "code",
   "execution_count": null,
   "metadata": {},
   "outputs": [],
   "source": [
    "print('Total number of upvotes on poems by /u/poem_for_your_sprog: ' + str(df['ups'].sum()))"
   ]
  },
  {
   "cell_type": "markdown",
   "metadata": {},
   "source": [
    "Is that a lot? In order to find out, let's try to express it in Big Mac's. Here is a little thing I found on the internet (so it must be true):\n",
    "\n",
    "> According to research conducted by Vanderbilt University Medical Center, laughing for 10 to 15 minutes burns between 10 and 40 calories a day.\n",
    "\n",
    "Let's first assume that smiling is on the bottom of this spectrum, i.e. 15 minutes of smiling consumes 10 calories. Now let's assume that an upvote equals two seconds of smiling on average. Then we now have enough information to convert our number of upvotes to Big Mac's!"
   ]
  },
  {
   "cell_type": "code",
   "execution_count": null,
   "metadata": {},
   "outputs": [],
   "source": [
    "cal_per_sec = 10/(15*60)\n",
    "cal_per_smile = cal_per_sec * 2\n",
    "total_cals_smiled = df['ups'].sum() * cal_per_smile\n",
    "cal_per_big_mac = 564\n",
    "n_big_mac = round(total_cals_smiled/cal_per_big_mac,1)\n",
    "print('Calories per second of smiling: {0:.4f}'.format(cal_per_sec))\n",
    "print('Calories per smile: {0:.4f}'.format(cal_per_smile))\n",
    "print('Number of smiles: {}'.format(df['ups'].sum()))\n",
    "print('Total calories smiled: {0:.1f}'.format(total_cals_smiled))\n",
    "print('Calories per Big Mac: {0:.1f}'.format(cal_per_big_mac))\n",
    "\n",
    "print('In total, {} Big Mac\\'s worth of calories have been consumed by smiles that were caused by poems by /u/poem_for_your_sprog.'\n",
    "     .format(n_big_mac))"
   ]
  },
  {
   "cell_type": "markdown",
   "metadata": {},
   "source": [
    "Next, let's take a look at the awards. There are (at least) three types of awards;\n",
    "- Silver, granting the user.. nothing.\n",
    "- Gold, granting the user Reddit Premium for a week\n",
    "- Platinum, granting the user Reddit Premium for a month\n",
    "\n",
    "Below is a pie chart that shows the breakdown pf the awards /u/poem_for_your_sprog has been given. Yes, I know many people don't like pie charts. Although I dough not really care, I have added a hole in the middle to make it a donut chart. As long as it's food related I'm happy."
   ]
  },
  {
   "cell_type": "code",
   "execution_count": null,
   "metadata": {},
   "outputs": [],
   "source": [
    "from collections import Counter\n",
    "c = Counter()\n",
    "for d in df['awards_dict']:\n",
    "    c.update(d)\n",
    "\n",
    "color_dict = {'Gold': '#C9B037', \n",
    "          'Silver': '#D7D7D7', \n",
    "          'Platinum': '#B4B4B4'}\n",
    "colors = [color_dict[x] if x in color_dict else '#AD8A56' for x in [x[0] for x in c.items()]]\n",
    "\n",
    "fig = go.Figure(data=[\n",
    "                    go.Pie(\n",
    "                        labels=[x[0] for x in c.items()], \n",
    "                        values=[x[1] for x in c.items()],\n",
    "                        marker=dict(colors=colors),\n",
    "                        textinfo='value', \n",
    "                        hoverinfo='label+percent',\n",
    "                        textfont_size=12,\n",
    "                        hole=.3 \n",
    "                    )\n",
    "    ]\n",
    ")\n",
    "fig.update_layout(\n",
    "    template='simple_white',\n",
    "    title = 'Awards received on poems by /u/poem_for_your_sprog.',\n",
    "    title_x = 0.5,\n",
    ")\n",
    "fig.show()"
   ]
  },
  {
   "cell_type": "markdown",
   "metadata": {},
   "source": [
    "Below are three more graphs. The first is a histogram of the number of upvotes per post, and the second is a histogram of the number of awards per post. The last graph shows every poem written by /u/poem_for_your_sprog on Reddit with the number of upvotes on the y-axis and the number of awards on the x-axis. You can hover over the points to read the poems!"
   ]
  },
  {
   "cell_type": "code",
   "execution_count": null,
   "metadata": {},
   "outputs": [],
   "source": [
    "fig = plot_histogram(\n",
    "    x = df['ups'],    \n",
    "    params = {'xbins':dict(size=250)},\n",
    "    title = 'Histogram of the upvotes of poems by by u/poem_for_your_sprog',\n",
    "    xaxis_title = 'Upvotes',\n",
    "    yaxis_title = 'Number of comments'\n",
    ")\n",
    "fig.show()"
   ]
  },
  {
   "cell_type": "code",
   "execution_count": null,
   "metadata": {},
   "outputs": [],
   "source": [
    "fig = plot_histogram(\n",
    "    x = df['total_awards_received'],    \n",
    "    params = {'xbins':dict(size=1)},\n",
    "    title = 'Histogram of the number of awards per comment by u/poem_for_your_sprog',\n",
    "    xaxis_title = 'Number of awards',\n",
    "    yaxis_title = 'Number of comments'\n",
    ")\n",
    "fig.show()"
   ]
  },
  {
   "cell_type": "code",
   "execution_count": null,
   "metadata": {},
   "outputs": [],
   "source": [
    "fig = go.Figure(\n",
    "        data=go.Scatter(\n",
    "            x=df['total_awards_received'],\n",
    "            y=df['ups'],\n",
    "            mode='markers',\n",
    "            marker=dict(\n",
    "                size = 8,\n",
    "                line_width=1,\n",
    "                opacity=0.7\n",
    "            ),\n",
    "            hoverinfo = 'text',\n",
    "            text=['ups: {}<br>{}<br><br>'.format(row['ups'],row['awards_simple']) \n",
    "                  + re.sub('>','<br>',row['poem']) for index, row in df.iterrows()]\n",
    "        )\n",
    ")\n",
    "\n",
    "fig.update_layout(\n",
    "    title='Upvotes versus number of awards of the poems by u/poem_for_your_sprog',\n",
    "    title_x=0.5,\n",
    "    template='simple_white',\n",
    "    xaxis_title='Number of awards received',\n",
    "    yaxis_title='Upvotes'\n",
    ")\n",
    "fig.show()"
   ]
  },
  {
   "cell_type": "code",
   "execution_count": null,
   "metadata": {},
   "outputs": [],
   "source": [
    "front_matter_str = \"\"\"---\n",
    "layout: post\n",
    "title: Analyzing the poem's by /u/poem_for_your_sprog\n",
    "subtitle: Some summary statistics of the comment history by /u/poem_for/your_sprog\n",
    "tags: [python,poetry]\n",
    "---\"\"\"\n",
    "\n",
    "import subprocess\n",
    "\n",
    "def export_ipynb_for_github_pages(filename,front_matter_str):\n",
    "    \"\"\"\n",
    "    Converts the .ipynb file to a .html file with all code omitted. Also replaces \n",
    "    all occurences of '{{' with '{ {' because otherwise this gives issues when Jekyll \n",
    "    parses the file.\n",
    "    \n",
    "    Edited from https://davistownsend.github.io/blog/PlotlyBloggingTutorial/\n",
    "    \"\"\"\n",
    "    \n",
    "    filename = \"1.0-summary-statistics-upvotes-and-awards.ipynb\"\n",
    "    subprocess.call([\"jupyter\", \"nbconvert\",\"--to\",\"html\",\"--template\",\"hidecode\",filename])\n",
    "    filename_html = re.sub('ipynb','html',filename)\n",
    "    subprocess.call([\"sed\", \"-i\", \"s/{{/{ {/g\", filename_html])\n",
    "\n",
    "    with open(filename_html, 'r') as original: \n",
    "        data = original.read()\n",
    "    with open(filename_html, 'w') as modified: \n",
    "        modified.write(front_matter_str + \"\\n\" + data)        "
   ]
  }
 ],
 "metadata": {
  "kernelspec": {
   "display_name": "Python 3",
   "language": "python",
   "name": "python3"
  },
  "language_info": {
   "codemirror_mode": {
    "name": "ipython",
    "version": 3
   },
   "file_extension": ".py",
   "mimetype": "text/x-python",
   "name": "python",
   "nbconvert_exporter": "python",
   "pygments_lexer": "ipython3",
   "version": "3.7.5"
  }
 },
 "nbformat": 4,
 "nbformat_minor": 2
}
