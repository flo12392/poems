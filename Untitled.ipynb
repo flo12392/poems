{
 "cells": [
  {
   "cell_type": "markdown",
   "metadata": {},
   "source": [
    "I am a really big fan of the poems by /u/poem_for_your_sprog on Reddit. For those of you who are not familiar with him yet; he writes short poems as responses to others on AskReddit threads. To give you an example, one that I particularly like is the following, which was written in response to a thread of gripping stories by some ICU workers, who despite their best efforts are not always able to save every patient they meet:\n",
    "\n",
    "```\n",
    "You’ll weather the wind and the rain and the rough -\n",
    "And sometimes you’ll try but it won’t be enough.\n",
    "\n",
    "You did what you could,\n",
    "but it’s not up to you.\n",
    "\n",
    "You did what you could,\n",
    "and that’s all you can do.\n",
    "```\n",
    "\n",
    "I always find it difficult why I love these poems so much. Some, like the above, stand out in simplicity; six short lines that bring a message that speaks to many of us. But there's more elaborate ones, and really funny ones too. I think the one thing that they all have in common is their rhythm, or their 'flow'.\n",
    "\n",
    "However, since I am not as good with words as /u/poem_for_your_sprog, let me use numbers to analyze some of the work he has done to date!"
   ]
  },
  {
   "cell_type": "code",
   "execution_count": null,
   "metadata": {},
   "outputs": [],
   "source": [
    "%%capture\n",
    "%load_ext autoreload\n",
    "%autoreload 2"
   ]
  },
  {
   "cell_type": "code",
   "execution_count": null,
   "metadata": {},
   "outputs": [],
   "source": [
    "import string\n",
    "import datetime as dt\n",
    "import pandas as pd\n",
    "import numpy as np\n",
    "import time\n",
    "import re\n",
    "import matplotlib.pyplot as plt \n",
    "from plotly.offline import download_plotlyjs, init_notebook_mode, plot, iplot\n",
    "import plotly.graph_objs as go\n",
    "init_notebook_mode(connected=False)\n",
    "\n",
    "from src.utils import print2_list, print2\n",
    "from src.plotly import plot_histogram, plot_timeline\n",
    "from src.data import load_data\n",
    "\n",
    "pd.set_option('display.max_rows', 500)\n",
    "pd.set_option('display.max_columns', 500)\n",
    "pd.set_option('display.width', 1000)\n",
    "pd.set_option('display.max_colwidth', -1)"
   ]
  },
  {
   "cell_type": "code",
   "execution_count": null,
   "metadata": {},
   "outputs": [],
   "source": [
    "%%capture\n",
    "import nltk\n",
    "from nltk.tokenize import RegexpTokenizer\n",
    "nltk.download('stopwords')\n",
    "nltk.download('punkt')"
   ]
  },
  {
   "cell_type": "markdown",
   "metadata": {},
   "source": [
    "# Load the data"
   ]
  },
  {
   "cell_type": "code",
   "execution_count": null,
   "metadata": {},
   "outputs": [],
   "source": [
    "df = load_data('data/comments.txt', True)"
   ]
  },
  {
   "cell_type": "markdown",
   "metadata": {},
   "source": [
    "# Comments per day"
   ]
  },
  {
   "cell_type": "markdown",
   "metadata": {},
   "source": [
    "Let's start by simply looking at the amount of poems over time. We can see below that on the extraordinarily productive days, sprog provides us with about 5 or 6 poems, and his productivity seems to have increased somewhat over time. The outlier of 12 comments in June is the ['Ask Me Anything'](https://www.reddit.com/r/books/comments/3aungz/hi_im_sam_garland_aka_upoem_for_your_sprog_ive/), or AMA in short, where he answered questions of fellow Redditors."
   ]
  },
  {
   "cell_type": "code",
   "execution_count": null,
   "metadata": {},
   "outputs": [],
   "source": [
    "df_comments_per_day= df.groupby(['date'])['date'].agg(n='count')\n",
    "idx = pd.date_range(df_comments_per_day.index.min(), dt.datetime.today())\n",
    "df_comments_per_day = df_comments_per_day.reindex(idx, fill_value=0)"
   ]
  },
  {
   "cell_type": "code",
   "execution_count": null,
   "metadata": {},
   "outputs": [],
   "source": [
    "fig = plot_timeline(\n",
    "    x=df_comments_per_day.index,\n",
    "    y=df_comments_per_day['n'],\n",
    "    title='Number of comments on Reddit per day by u/poem_for_your_sprog',\n",
    "    xaxis_title='Day',\n",
    "    yaxis_title='Number of comments',\n",
    "    annotations=[\n",
    "        go.layout.Annotation(\n",
    "            x='2015-6-23',\n",
    "            y=12,\n",
    "            xref=\"x\",\n",
    "            yref=\"y\",\n",
    "            text=\"AMA\",\n",
    "            showarrow=True,\n",
    "            arrowhead=2,\n",
    "            ax=-50,\n",
    "            ay=0\n",
    "        )\n",
    "    ]\n",
    ")\n",
    "fig.show()"
   ]
  },
  {
   "cell_type": "markdown",
   "metadata": {},
   "source": [
    "Due to the long timeline, it becomes difficult to see any real trend in the daily data, so let's aggregate that to month level to get a clearer picture:"
   ]
  },
  {
   "cell_type": "code",
   "execution_count": null,
   "metadata": {},
   "outputs": [],
   "source": [
    "comments_per_month = df_comments_per_day.groupby(pd.Grouper(freq='M'))['n'].sum()"
   ]
  },
  {
   "cell_type": "code",
   "execution_count": null,
   "metadata": {},
   "outputs": [],
   "source": [
    "fig = plot_timeline(\n",
    "    x=comments_per_month.index,\n",
    "    y=comments_per_month,\n",
    "    title='Number of comments on Reddit per month by u/poem_for_your_sprog',\n",
    "    xaxis_title='Month',\n",
    "    yaxis_title='Number of comments'\n",
    ")\n",
    "fig.show()"
   ]
  },
  {
   "cell_type": "code",
   "execution_count": null,
   "metadata": {},
   "outputs": [],
   "source": [
    "# Remove AMA comments, and other comments that do not look like poems.\n",
    "df = df[df['date']!=dt.date(2015,6,23)]\n",
    "df.reset_index(inplace=True)"
   ]
  },
  {
   "cell_type": "markdown",
   "metadata": {},
   "source": [
    "# Average line length"
   ]
  },
  {
   "cell_type": "markdown",
   "metadata": {},
   "source": [
    "Sprog writes both poems with very short lines, as well as poems with longer ones. A histogram of the average number of characters on a line per poem should give us a better idea of the distribution:"
   ]
  },
  {
   "cell_type": "code",
   "execution_count": null,
   "metadata": {},
   "outputs": [],
   "source": [
    "fig = plot_histogram(\n",
    "    x = df['average_line_length'],    \n",
    "    params = {'xbins':dict(start=0,end=200,size=1)},\n",
    "    title = 'Histogram of the average characters per line by u/poem_for_your_sprog',\n",
    "    xaxis_title = 'Day',\n",
    "    yaxis_title = 'Number of comments'\n",
    ")\n",
    "\n",
    "fig.show()"
   ]
  },
  {
   "cell_type": "markdown",
   "metadata": {},
   "source": [
    "There are three clear outliers, which upon further inspection are not poems, or contain a lot of text alongside the poem. We will filter those out for now. Furthermore, the peak around 46 is interesting to see. My initial guess was that some rhymes are written in the rhyme scheme `abab`, while others are split out over shorter lines in the rhyme shape `abcb defe`, so the former would on average have lines twice as long as the latter. But that does not seem to hold; then the first peak should be around 23 instead of 30.\n",
    "\n",
    "It turns out that these are a set of poems that sprog usually writes in 'Anapestic tetrameter'. Anapestic tetrameter is a metre with four anapestical feet per line. An anapestical foot is two unstressed syllables, followed by a stressed one. So, denoting a stressed syllable as / and an unstressed syllable as x, an anapestic tetrameter can de denoted as follows:\n",
    "\n",
    "> x x / x x / x x / x x /\n",
    "\n",
    "However, sprog usually omits the first unstressed syllable, so it becomes:\n",
    "\n",
    ">   x / x x / x x / x x /\n",
    "\n",
    "To get a better idea, here is an example of one of these poems:\n",
    "\n",
    "```\n",
    "you don't need a measure of treasure to fly\n",
    "to sporting success on a broom in the sky...\n",
    "to eros alone in the sight of the stars...\n",
    "to space on a ship that's intended for mars.\n",
    "you don't need a mountain of money to go\n",
    "where peter and susan await in the snow...\n",
    "where planets contend and defend for a spice...\n",
    "where alice adventures with hatters and mice.\n",
    "you don't need a wallet of wealth and of worth\n",
    "to start on a journey across middle earth...\n",
    "to fight in the night with your sword and your steed.\n",
    "you don't need a fund or a fortune to read.\n",
    "```"
   ]
  },
  {
   "cell_type": "code",
   "execution_count": null,
   "metadata": {},
   "outputs": [],
   "source": [
    "df = df[df['average_line_length']<55]"
   ]
  },
  {
   "cell_type": "code",
   "execution_count": null,
   "metadata": {},
   "outputs": [],
   "source": [
    "fig = plot_histogram(\n",
    "    x = df['number_of_lines'],    \n",
    "    params = {'xbins':dict(size=1)},\n",
    "    title = 'Histogram of the number of lines per poem by u/poem_for_your_sprog',\n",
    "    xaxis_title = 'Number of lines',\n",
    "    yaxis_title = 'Number of comments'\n",
    ")\n",
    "\n",
    "fig.show()"
   ]
  },
  {
   "cell_type": "markdown",
   "metadata": {},
   "source": [
    "That's quite a wide spread! Some poems have on average lines that are three times longer than other poems. This makes one wonder what those poems look like.. Printing many poems here might not be the best solution, so let's put the 100 poems with the longest average line length and the the 100 poems with the longest average line length in a plot that allows you to read the poems by hovering over the points. "
   ]
  },
  {
   "cell_type": "code",
   "execution_count": null,
   "metadata": {},
   "outputs": [],
   "source": [
    "df = df[df['poem'].apply(len)>0]\n",
    "df = df[df['number_of_lines']>1]\n"
   ]
  },
  {
   "cell_type": "code",
   "execution_count": null,
   "metadata": {},
   "outputs": [],
   "source": [
    "df_short = df.sort_values('average_line_length').head(100)"
   ]
  },
  {
   "cell_type": "code",
   "execution_count": null,
   "metadata": {},
   "outputs": [],
   "source": [
    "fig = go.Figure(\n",
    "        data=go.Scatter(\n",
    "            x=df_short['average_line_length'],\n",
    "            y=df_short['score'],\n",
    "            mode='markers',\n",
    "            marker=dict(\n",
    "                size = 8,\n",
    "                line_width=1,\n",
    "                opacity=0.7\n",
    "            ),\n",
    "            hoverinfo = 'text',\n",
    "            text=[re.sub('>','<br>',comment) for comment in df_short['poem']]\n",
    "        )\n",
    ")\n",
    "\n",
    "fig.update_layout(\n",
    "    title='The 100 poems with the shortest line length by u/poem_for_your_sprog',\n",
    "    title_x=0.5,\n",
    "    template='simple_white',\n",
    "    xaxis_title='Average line length',\n",
    "    yaxis_title='Score'\n",
    ")\n",
    "fig.show()"
   ]
  },
  {
   "cell_type": "code",
   "execution_count": null,
   "metadata": {},
   "outputs": [],
   "source": [
    "df_long = df.sort_values('average_line_length',ascending=False).head(100)"
   ]
  },
  {
   "cell_type": "code",
   "execution_count": null,
   "metadata": {},
   "outputs": [],
   "source": [
    "fig = go.Figure(\n",
    "        data=go.Scatter(\n",
    "            x=df_long['average_line_length'],\n",
    "            y=df_long['score'],\n",
    "            mode='markers',\n",
    "            marker=dict(\n",
    "                size = 8,\n",
    "                line_width=1,\n",
    "                opacity=0.7\n",
    "            ),\n",
    "            hoverinfo = 'text',\n",
    "            text=[re.sub('>','<br>',comment) for comment in df_long['poem']]\n",
    "        )\n",
    ")\n",
    "\n",
    "fig.update_layout(\n",
    "    title='The 100 poems with the longest line length by u/poem_for_your_sprog',\n",
    "    title_x=0.5,\n",
    "    template='simple_white',\n",
    "    xaxis_title='Average line length',\n",
    "    yaxis_title='Score'\n",
    ")\n",
    "fig.show()"
   ]
  },
  {
   "cell_type": "markdown",
   "metadata": {},
   "source": [
    "# Score & Awards"
   ]
  },
  {
   "cell_type": "code",
   "execution_count": null,
   "metadata": {},
   "outputs": [],
   "source": [
    "fig = plot_histogram(\n",
    "    x = df['score'],    \n",
    "    params = {'xbins':dict(size=250)},\n",
    "    title = 'Histogram of the scores of poems by by u/poem_for_your_sprog',\n",
    "    xaxis_title = 'Score',\n",
    "    yaxis_title = 'Number of comments'\n",
    ")\n",
    "fig.show()"
   ]
  },
  {
   "cell_type": "code",
   "execution_count": null,
   "metadata": {},
   "outputs": [],
   "source": [
    "fig = plot_histogram(\n",
    "    x = df['total_awards_received'],    \n",
    "    params = {'xbins':dict(size=1)},\n",
    "    title = 'Histogram of the number of awards per comment by u/poem_for_your_sprog',\n",
    "    xaxis_title = 'Number of awards',\n",
    "    yaxis_title = 'Number of comments'\n",
    ")\n",
    "fig.show()"
   ]
  },
  {
   "cell_type": "code",
   "execution_count": null,
   "metadata": {},
   "outputs": [],
   "source": [
    "fig = go.Figure(\n",
    "        data=go.Scatter(\n",
    "            x=df['total_awards_received'],\n",
    "            y=df['score'],\n",
    "            mode='markers',\n",
    "            marker=dict(\n",
    "                size = 8,\n",
    "                line_width=1,\n",
    "                opacity=0.7\n",
    "            ),\n",
    "            hoverinfo = 'text',\n",
    "            text=['score: {}<br>{}<br><br>'.format(row['score'],row['awards_simple']) \n",
    "                  + re.sub('>','<br>',row['poem']) for index, row in df.iterrows()]\n",
    "        )\n",
    ")\n",
    "\n",
    "fig.update_layout(\n",
    "    title='Score versus number of awards of the poems by u/poem_for_your_sprog',\n",
    "    title_x=0.5,\n",
    "    template='simple_white',\n",
    "    xaxis_title='Number of awards received',\n",
    "    yaxis_title='Score'\n",
    ")\n",
    "fig.show()"
   ]
  },
  {
   "cell_type": "markdown",
   "metadata": {},
   "source": [
    "# Word analysis"
   ]
  },
  {
   "cell_type": "code",
   "execution_count": null,
   "metadata": {},
   "outputs": [],
   "source": [
    "tokenizer = RegexpTokenizer(r'\\w+')\n",
    "stop_words = nltk.corpus.stopwords.words('english')\n",
    "comments = df['poem'].str.cat(sep=' ')\n",
    "tokens = tokenizer.tokenize(comments)\n",
    "tokens = [t for t in tokens if not t in stop_words]\n",
    "frequency_dist = nltk.FreqDist(tokens)\n",
    "most_common = frequency_dist.most_common(80)"
   ]
  },
  {
   "cell_type": "code",
   "execution_count": null,
   "metadata": {},
   "outputs": [],
   "source": [
    "fig = go.Figure()\n",
    "fig.add_trace(\n",
    "    go.Bar(\n",
    "        y=[x[0] for x in most_common[::-1]],\n",
    "        x=[x[1] for x in most_common[::-1]],\n",
    "        name='words',\n",
    "        orientation='h'\n",
    "    )\n",
    ")\n",
    "fig.update_layout(\n",
    "        width=800, \n",
    "        height=900,\n",
    "        title='Most occuring words in comments by u/poem_for_your_sprog',\n",
    "        title_x=0.5,\n",
    "        template='simple_white',\n",
    "        xaxis_title='Occurence',\n",
    "        yaxis_title='',\n",
    "        yaxis=dict(\n",
    "            tickfont=dict( size=10),\n",
    "            tickvals=[x[0] for x in most_common[::-1]]\n",
    "    )\n",
    ")\n",
    "fig.show()"
   ]
  },
  {
   "cell_type": "markdown",
   "metadata": {},
   "source": [
    "# What about Timmy?"
   ]
  },
  {
   "cell_type": "code",
   "execution_count": null,
   "metadata": {},
   "outputs": [],
   "source": [
    "comments_about_timmy = np.array(['timmy' in comment for comment in df['poem']])\n",
    "comments_about_timmy_fucking_dying = np.array(['timmy fucking died' in comment for comment in df['poem']])"
   ]
  },
  {
   "cell_type": "code",
   "execution_count": null,
   "metadata": {},
   "outputs": [],
   "source": [
    "print('Comments about Timmy: {}'.format(comments_about_timmy.sum()))\n",
    "print('Comments about Timmy fucking dying: {}'.format(comments_about_timmy_fucking_dying.sum()))\n",
    "print('Comments about Timmy that do not end with Timmy fucking dying: {}'\n",
    "      .format(comments_about_timmy.sum()-comments_about_timmy_fucking_dying.sum()))"
   ]
  },
  {
   "cell_type": "code",
   "execution_count": null,
   "metadata": {},
   "outputs": [],
   "source": [
    "fig = go.Figure(data=[\n",
    "                    go.Pie(\n",
    "                        labels=['Timmy fucking dying','Timmy not fucking dying'], \n",
    "                        values=[comments_about_timmy_fucking_dying.sum(),\n",
    "                             comments_about_timmy.sum()-comments_about_timmy_fucking_dying.sum()], hole=.3\n",
    "        )\n",
    "    ]\n",
    ")\n",
    "fig.update_layout(\n",
    "        template='simple_white'\n",
    ")\n",
    "fig.show()"
   ]
  },
  {
   "cell_type": "markdown",
   "metadata": {},
   "source": [
    "So.. What happens to Timmy if he doesn't fucking die?"
   ]
  },
  {
   "cell_type": "code",
   "execution_count": null,
   "metadata": {},
   "outputs": [],
   "source": [
    "df_timmy_not_dying = df[(comments_about_timmy) & (~comments_about_timmy_fucking_dying)]\n",
    "df_timmy_not_dying['ending'] = [x.split('>')[-1] for x in df_timmy_not_dying['poem']]\n",
    "df_timmy_not_dying = df_timmy_not_dying.sort_values('score')"
   ]
  },
  {
   "cell_type": "code",
   "execution_count": null,
   "metadata": {},
   "outputs": [],
   "source": [
    "fig = go.Figure()\n",
    "fig.add_trace(\n",
    "    go.Bar(\n",
    "        y=df_timmy_not_dying['ending'],\n",
    "        x=df_timmy_not_dying['score'],\n",
    "        orientation='h'\n",
    "    )\n",
    ")\n",
    "fig.update_layout(\n",
    "        width=800, \n",
    "        height=900,\n",
    "        title='Best scoring alternative endings to poems about Timmy',\n",
    "        title_x=0.5,\n",
    "        template='simple_white',\n",
    "        xaxis_title='Score',\n",
    "        yaxis_title='',\n",
    "        yaxis=dict(\n",
    "            tickfont=dict( size=10),\n",
    "            tickvals=df_timmy_not_dying['ending']\n",
    "    )\n",
    ")\n",
    "fig.show()"
   ]
  },
  {
   "cell_type": "markdown",
   "metadata": {},
   "source": [
    "# Rhyming"
   ]
  },
  {
   "cell_type": "code",
   "execution_count": null,
   "metadata": {},
   "outputs": [],
   "source": [
    "import pronouncing"
   ]
  },
  {
   "cell_type": "code",
   "execution_count": null,
   "metadata": {},
   "outputs": [],
   "source": [
    "def get_last_word_per_line(poem):\n",
    "    return [re.findall(r\"\\s([^\\.?!,\\s]+)[\\.?!,\\s']*$\",line)[0] if re.findall(r\"\\s([^\\.?!,\\s]+)[\\.?!,\\s']*$\",line) else None \n",
    "     for line in poem.split('>')]"
   ]
  },
  {
   "cell_type": "code",
   "execution_count": null,
   "metadata": {},
   "outputs": [],
   "source": [
    "last_words_list = [get_last_word_per_line(mystr) for mystr in df['poem']]"
   ]
  },
  {
   "cell_type": "code",
   "execution_count": null,
   "metadata": {},
   "outputs": [],
   "source": [
    "import string\n",
    "\n",
    "def get_rhyme_scheme(last_words_per_line):\n",
    "    alphabet = string.ascii_lowercase\n",
    "    rhyme_scheme = np.empty(len(last_words_per_line),dtype=str)\n",
    "    k=0\n",
    "    for i in range(len(last_words_per_line)):\n",
    "        if rhyme_scheme[i]=='':\n",
    "            if last_words_per_line[i] is not None:\n",
    "                rhyme_scheme[i]=alphabet[k % 26]\n",
    "                rhyme_list = pronouncing.rhymes(last_words_per_line[i])\n",
    "                rhyme_scheme[(np.array([x in rhyme_list for x in last_words_per_line]) & (rhyme_scheme == ''))] = alphabet[k % 26]\n",
    "                k+=1\n",
    "            else:\n",
    "                rhyme_scheme[i] = '?'               \n",
    "    return ''.join(rhyme_scheme) "
   ]
  },
  {
   "cell_type": "code",
   "execution_count": null,
   "metadata": {},
   "outputs": [],
   "source": [
    "rhyme_schemes = [get_rhyme_scheme(x) for x in last_words_list]\n",
    "df['rhyme_scheme'] = rhyme_schemes"
   ]
  },
  {
   "cell_type": "code",
   "execution_count": null,
   "metadata": {},
   "outputs": [],
   "source": [
    "most_common_rhyme_schemes = df['rhyme_scheme'].value_counts().head(25)"
   ]
  },
  {
   "cell_type": "code",
   "execution_count": null,
   "metadata": {},
   "outputs": [],
   "source": [
    "fig = go.Figure()\n",
    "fig.add_trace(\n",
    "    go.Bar(\n",
    "        y=most_common_rhyme_schemes.index[::-1],\n",
    "        x=most_common_rhyme_schemes[::-1],\n",
    "        name='rhyme',\n",
    "        orientation='h'\n",
    "    )\n",
    ")\n",
    "fig.update_layout(\n",
    "        width=800, \n",
    "        height=900,\n",
    "        title='The 25 most common rhyming schemes in poems by /u/poem_for_your_sprog',\n",
    "        title_x=0.5,\n",
    "        template='simple_white',\n",
    "        xaxis_title='Number of poems',\n",
    "        yaxis_title='',\n",
    "        yaxis=dict(\n",
    "            tickfont=dict(size=10),\n",
    "            tickvals=most_common_rhyme_schemes.index[::-1]\n",
    "    )\n",
    ")\n",
    "fig.show()"
   ]
  },
  {
   "cell_type": "code",
   "execution_count": null,
   "metadata": {},
   "outputs": [],
   "source": [
    "df_top_rhymes = df[df['rhyme_scheme'].isin(most_common_rhyme_schemes.index[:10])]"
   ]
  },
  {
   "cell_type": "code",
   "execution_count": null,
   "metadata": {},
   "outputs": [],
   "source": [
    "# get dataframe sorted by life Expectancy in each continent \n",
    "df_top_rhymes = (df_top_rhymes\n",
    "                 .groupby([\"rhyme_scheme\"])\n",
    "                 .apply(lambda x: x.sort_values([\"score\"], ascending = False))\n",
    "                 .reset_index(drop=True)\n",
    "                 .groupby('rhyme_scheme')\n",
    "                 .head(10))"
   ]
  },
  {
   "cell_type": "code",
   "execution_count": null,
   "metadata": {},
   "outputs": [],
   "source": [
    "fig = go.Figure()\n",
    "\n",
    "for rhyme_scheme in most_common_rhyme_schemes.index[:10]:\n",
    "    df_subset = df_top_rhymes[df_top_rhymes['rhyme_scheme'] == rhyme_scheme]\n",
    "    fig.add_trace(go.Scatter(\n",
    "        x=df_subset['average_line_length'],\n",
    "        y=df_subset['score'],\n",
    "        mode='markers',\n",
    "        name=rhyme_scheme,\n",
    "        marker=dict(\n",
    "            size = 8,\n",
    "            line_width=1,\n",
    "            opacity=0.7\n",
    "        ),\n",
    "        hoverinfo = 'text',\n",
    "        text=[re.sub('>','<br>',comment) for comment in df_subset['poem']]\n",
    "    )\n",
    " )\n",
    "\n",
    "\n",
    "fig.update_layout(\n",
    "    title='Top rated poems in the 10 most common rhyming schemes by u/poem_for_your_sprog',\n",
    "    title_x=0.5,\n",
    "    template='simple_white',\n",
    "    xaxis_title='Average line length',\n",
    "    yaxis_title='Score'\n",
    ")\n",
    "fig.show()"
   ]
  },
  {
   "cell_type": "markdown",
   "metadata": {},
   "source": [
    "# Rhyme sets"
   ]
  },
  {
   "cell_type": "code",
   "execution_count": null,
   "metadata": {},
   "outputs": [],
   "source": [
    "def get_rhyme_tuples(last_words_per_line):\n",
    "    all_rhymes = list()\n",
    "    for i in range(len(last_words_per_line)-1):\n",
    "        if last_words_per_line[i] is not None:\n",
    "            rhymes_with = pronouncing.rhymes(last_words_per_line[i])\n",
    "            next_words = last_words_per_line[(i+1):np.min([len(last_words_per_line),i+4])]\n",
    "            index_of_next_rhyme_words = np.where([x in rhymes_with for x in next_words])[0]\n",
    "            if index_of_next_rhyme_words.size>0:\n",
    "                all_rhymes.append((last_words_per_line[i], next_words[index_of_next_rhyme_words[0]]))\n",
    "    return all_rhymes"
   ]
  },
  {
   "cell_type": "code",
   "execution_count": null,
   "metadata": {},
   "outputs": [],
   "source": [
    "from functools import reduce\n",
    "all_rhyme_tuples = [get_rhyme_tuples(x) for x in last_words_list]\n",
    "all_rhyme_tuples = reduce(lambda x,y: x+y,all_rhyme_tuples)"
   ]
  },
  {
   "cell_type": "code",
   "execution_count": null,
   "metadata": {},
   "outputs": [],
   "source": [
    "all_rhyme_tuples"
   ]
  },
  {
   "cell_type": "code",
   "execution_count": null,
   "metadata": {},
   "outputs": [],
   "source": [
    "all_rhyme_words = [x for tpl in all_rhyme_tuples for x in tpl]"
   ]
  },
  {
   "cell_type": "code",
   "execution_count": null,
   "metadata": {},
   "outputs": [],
   "source": [
    "df_rhyme_words = pd.DataFrame({'word':all_rhyme_words})"
   ]
  },
  {
   "cell_type": "code",
   "execution_count": null,
   "metadata": {},
   "outputs": [],
   "source": [
    "df_rhyme_words.groupby('word')['word'].count().sort_values(ascending=False).head(100)"
   ]
  },
  {
   "cell_type": "markdown",
   "metadata": {},
   "source": [
    "# Metre"
   ]
  },
  {
   "cell_type": "code",
   "execution_count": null,
   "metadata": {},
   "outputs": [],
   "source": [
    "from string import punctuation"
   ]
  },
  {
   "cell_type": "code",
   "execution_count": null,
   "metadata": {},
   "outputs": [],
   "source": [
    "pronouncing.phones_for_word(word)"
   ]
  },
  {
   "cell_type": "code",
   "execution_count": null,
   "metadata": {},
   "outputs": [],
   "source": [
    "mystr = df['poem'].loc[2]"
   ]
  },
  {
   "cell_type": "code",
   "execution_count": null,
   "metadata": {},
   "outputs": [],
   "source": [
    "mystr"
   ]
  },
  {
   "cell_type": "code",
   "execution_count": null,
   "metadata": {},
   "outputs": [],
   "source": []
  },
  {
   "cell_type": "code",
   "execution_count": null,
   "metadata": {},
   "outputs": [],
   "source": [
    "lines = mystr.split('>')"
   ]
  },
  {
   "cell_type": "code",
   "execution_count": null,
   "metadata": {},
   "outputs": [],
   "source": [
    "line = lines[0]"
   ]
  },
  {
   "cell_type": "code",
   "execution_count": null,
   "metadata": {},
   "outputs": [],
   "source": [
    "words = line.split()"
   ]
  },
  {
   "cell_type": "code",
   "execution_count": null,
   "metadata": {},
   "outputs": [],
   "source": [
    "word = words[0]"
   ]
  },
  {
   "cell_type": "code",
   "execution_count": null,
   "metadata": {},
   "outputs": [],
   "source": [
    "def get_word_stresses(word):\n",
    "    word = word.strip(punctuation)\n",
    "    pronounciation = pronouncing.phones_for_word(word)\n",
    "    if pronounciation: \n",
    "        stresses = pronouncing.stresses(pronounciation[0])\n",
    "    else:\n",
    "        word = re.sub(\"'.+\",'',word)\n",
    "        pronounciation = pronouncing.phones_for_word(word)\n",
    "        if pronounciation: \n",
    "            stresses = pronouncing.stresses(pronounciation[0])\n",
    "        else:\n",
    "            stresses = '?'\n",
    "    return stresses"
   ]
  },
  {
   "cell_type": "code",
   "execution_count": null,
   "metadata": {},
   "outputs": [],
   "source": [
    "[''.join([get_word_stresses(word) for word in line.split(' ')]) for line in mystr.split('>')]"
   ]
  },
  {
   "cell_type": "code",
   "execution_count": null,
   "metadata": {},
   "outputs": [],
   "source": [
    "mystr.split('>')"
   ]
  },
  {
   "cell_type": "code",
   "execution_count": null,
   "metadata": {},
   "outputs": [],
   "source": [
    "metres = {\n",
    "    'iambic pentameter' : '0101010101'\n",
    "}\n",
    "\n",
    "https://www.cummingsstudyguides.net/xmeter.html"
   ]
  }
 ],
 "metadata": {
  "kernelspec": {
   "display_name": "Python 3",
   "language": "python",
   "name": "python3"
  },
  "language_info": {
   "codemirror_mode": {
    "name": "ipython",
    "version": 3
   },
   "file_extension": ".py",
   "mimetype": "text/x-python",
   "name": "python",
   "nbconvert_exporter": "python",
   "pygments_lexer": "ipython3",
   "version": "3.7.5"
  }
 },
 "nbformat": 4,
 "nbformat_minor": 2
}
