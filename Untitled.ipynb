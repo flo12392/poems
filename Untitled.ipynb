{
 "cells": [
  {
   "cell_type": "code",
   "execution_count": null,
   "metadata": {},
   "outputs": [],
   "source": [
    "%load_ext autoreload\n",
    "%autoreload 2"
   ]
  },
  {
   "cell_type": "code",
   "execution_count": null,
   "metadata": {},
   "outputs": [],
   "source": [
    "import json\n",
    "import datetime as dt\n",
    "import pandas as pd\n",
    "import os\n",
    "import time\n",
    "import re\n",
    "\n",
    "pd.set_option('display.max_rows', 500)\n",
    "pd.set_option('display.max_columns', 500)\n",
    "pd.set_option('display.width', 1000)\n",
    "pd.set_option('display.max_colwidth', -1)"
   ]
  },
  {
   "cell_type": "code",
   "execution_count": null,
   "metadata": {},
   "outputs": [],
   "source": [
    "from src.reddit_comment_reader import RedditCommentReader"
   ]
  },
  {
   "cell_type": "code",
   "execution_count": null,
   "metadata": {},
   "outputs": [],
   "source": [
    "download_comments = True\n",
    "file_name = 'data/comments.txt'\n",
    "if os.path.isfile(file_name):\n",
    "    mtime = os.path.getmtime(file_name)\n",
    "    print(\"last modified: %s\" % dt.datetime.fromtimestamp(mtime))\n",
    "    if (dt.datetime.now() - dt.datetime.fromtimestamp(mtime)).seconds<24*60*60: # if modified in last 24 hours\n",
    "        download_comments = False\n",
    "\n",
    "if download_comments:\n",
    "    print('Downloading comments...')\n",
    "    reddit_comment_reader = RedditCommentReader(user='poem_for_your_sprog')\n",
    "    all_comments = reddit_comment_reader.get_comments()\n",
    "    print('Saving to file...')\n",
    "    with open(file_name, 'w') as outfile:\n",
    "        json.dump(all_comments, outfile)\n",
    "else:   \n",
    "    print('Loading comments from file...')\n",
    "    with open(file_name, 'r') as infile:\n",
    "        all_comments = json.load(infile)\n",
    "print('Done.')"
   ]
  },
  {
   "cell_type": "code",
   "execution_count": null,
   "metadata": {},
   "outputs": [],
   "source": [
    "df = pd.DataFrame(all_comments)"
   ]
  },
  {
   "cell_type": "code",
   "execution_count": null,
   "metadata": {},
   "outputs": [],
   "source": [
    "df['datetime'] = df['created_utc'].apply(dt.datetime.fromtimestamp)\n",
    "df['date'] = df['datetime'].dt.date"
   ]
  },
  {
   "cell_type": "code",
   "execution_count": null,
   "metadata": {},
   "outputs": [],
   "source": [
    "import matplotlib.pyplot as plt \n",
    "import plotly.graph_objects as go\n",
    "\n",
    "df_comments_per_day= df.groupby('date')['date'].agg(n='count').reset_index()\n",
    "\n",
    "fig = go.Figure()\n",
    "fig.add_trace(go.Scatter(x=df_comments_per_day['date'],\n",
    "                         y=df_comments_per_day['n'],\n",
    "                    mode='lines',\n",
    "                    name='lines'))\n",
    "fig.update_layout(title='Number of comments on Reddit per day by u/poem_for_your_sprog',\n",
    "                  title_x=0.5,\n",
    "                   xaxis_title='Day',\n",
    "                   yaxis_title='Number of comments')\n",
    "fig.show()"
   ]
  },
  {
   "cell_type": "code",
   "execution_count": null,
   "metadata": {},
   "outputs": [],
   "source": [
    "df = df.merge(df_comments_per_day,on='date',how='left')"
   ]
  },
  {
   "cell_type": "code",
   "execution_count": null,
   "metadata": {},
   "outputs": [],
   "source": [
    "def clean_comment(comment):\n",
    "    comment = comment.lower()\n",
    "    comment = re.sub(r'(https?://\\S+)',r' ',comment) # Remove URL's\n",
    "    comment = re.sub(r'\\n','>',comment) # Replace \\n with a special character to denote linebreaks\n",
    "    comment = re.sub(r'(/r/\\S+)',r' ',comment) # remove links to specific subreddits\n",
    "    comment = re.sub(r'[^A-Za-z0-9 >,\\.!?\\']', ' ', comment) # Keep only these characters\n",
    "    comment = re.sub(r'amp nbsp',' ', comment) \n",
    "    comment = re.sub(r'\\s([?.!\",](?:\\s|$))', r'\\1', comment) # remove white space between text and interpunction\n",
    "    comment = re.sub('\\s*([>])\\s*', r'\\1', comment) # remove space between line breaks\n",
    "    comment = re.sub(' +',' ',comment) # Remove multi-white space\n",
    "    comment = re.sub('>+','>',comment) # Remove multi-linebreaks\n",
    "    comment = comment.strip()\n",
    "    return comment\n",
    "\n",
    "df['comment_cleaned'] = df['body'].apply(clean_comment)"
   ]
  },
  {
   "cell_type": "code",
   "execution_count": null,
   "metadata": {},
   "outputs": [],
   "source": [
    "df['linebreaks'] = df['comment_cleaned'].apply(lambda x: sum(1 for _ in re.finditer(r'>', x)))\n",
    "df['comment_length']= df['comment_cleaned'].str.len()\n",
    "df['fraction_line_breaks'] = df['linebreaks']/df['comment_length']"
   ]
  },
  {
   "cell_type": "code",
   "execution_count": null,
   "metadata": {},
   "outputs": [],
   "source": [
    "fig = go.Figure()\n",
    "fig.add_trace(go.Histogram(x=df_test['fraction_line_breaks'],nbinsx=100))\n",
    "fig.show()"
   ]
  },
  {
   "cell_type": "code",
   "execution_count": null,
   "metadata": {},
   "outputs": [],
   "source": [
    "fig = go.Figure()\n",
    "fig.add_trace(go.Histogram(x=df_test['fraction_line_breaks'][df_test['fraction_line_breaks']<0.1],nbinsx=100))\n",
    "fig.show()"
   ]
  },
  {
   "cell_type": "code",
   "execution_count": null,
   "metadata": {},
   "outputs": [],
   "source": [
    "df[df['fraction_line_breaks']>0.1]"
   ]
  },
  {
   "cell_type": "code",
   "execution_count": null,
   "metadata": {},
   "outputs": [],
   "source": [
    "def print2(comment):\n",
    "    print(re.sub(r'>',r'\\n',comment))\n",
    "    \n",
    "def print2_list(comment_list):\n",
    "    for x in comment_list:\n",
    "        print2(x)\n",
    "        print('\\n-------\\n')"
   ]
  },
  {
   "cell_type": "code",
   "execution_count": null,
   "metadata": {},
   "outputs": [],
   "source": []
  }
 ],
 "metadata": {
  "kernelspec": {
   "display_name": "Python 3",
   "language": "python",
   "name": "python3"
  },
  "language_info": {
   "codemirror_mode": {
    "name": "ipython",
    "version": 3
   },
   "file_extension": ".py",
   "mimetype": "text/x-python",
   "name": "python",
   "nbconvert_exporter": "python",
   "pygments_lexer": "ipython3",
   "version": "3.7.4"
  }
 },
 "nbformat": 4,
 "nbformat_minor": 2
}
