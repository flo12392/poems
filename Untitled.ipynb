{
 "cells": [
  {
   "cell_type": "markdown",
   "metadata": {},
   "source": [
    "I am a really big fan of the poems by /u/poem_for_your_sprog on Reddit. For those of you who are not familiar with him yet; he writes short poems as responses to others on AskReddit threads. To give you an example, one that I particularly like is the following, which was written in response to a thread of gripping stories by some ICU workers, who despite their best efforts are not always able to save every patient they meet:\n",
    "\n",
    "```\n",
    "You’ll weather the wind and the rain and the rough -\n",
    "And sometimes you’ll try but it won’t be enough.\n",
    "\n",
    "You did what you could,\n",
    "but it’s not up to you.\n",
    "\n",
    "You did what you could,\n",
    "and that’s all you can do.\n",
    "```\n",
    "\n",
    "I always find it difficult why I love these poems so much. Some, like the above, stand out in simplicity; six short lines that bring a message that speaks to many of us. But there's more elaborate ones, and really funny ones too. I think the one thing that they all have in common is their rhythm, or their 'flow'.\n",
    "\n",
    "However, since I am not as good with words as /u/poem_for_your_sprog, let me use numbers to analyze some of the work he has done to date!"
   ]
  },
  {
   "cell_type": "code",
   "execution_count": null,
   "metadata": {},
   "outputs": [],
   "source": [
    "%%capture\n",
    "%load_ext autoreload\n",
    "%autoreload 2"
   ]
  },
  {
   "cell_type": "code",
   "execution_count": null,
   "metadata": {},
   "outputs": [],
   "source": [
    "import json\n",
    "import string\n",
    "import datetime as dt\n",
    "import pandas as pd\n",
    "import numpy as np\n",
    "import os\n",
    "import time\n",
    "import re\n",
    "import matplotlib.pyplot as plt \n",
    "from plotly.offline import download_plotlyjs, init_notebook_mode, plot, iplot\n",
    "import plotly.graph_objs as go\n",
    "init_notebook_mode(connected=False)\n",
    "\n",
    "from src.reddit_user_comment_reader import RedditUserCommentReader\n",
    "from src.utils import print2_list, print2\n",
    "from src.string import clean_comment\n",
    "\n",
    "pd.set_option('display.max_rows', 500)\n",
    "pd.set_option('display.max_columns', 500)\n",
    "pd.set_option('display.width', 1000)\n",
    "pd.set_option('display.max_colwidth', -1)"
   ]
  },
  {
   "cell_type": "code",
   "execution_count": null,
   "metadata": {},
   "outputs": [],
   "source": [
    "%%capture\n",
    "import nltk\n",
    "from nltk.tokenize import RegexpTokenizer\n",
    "nltk.download('stopwords')\n",
    "nltk.download('punkt')"
   ]
  },
  {
   "cell_type": "markdown",
   "metadata": {},
   "source": [
    "# Load the data"
   ]
  },
  {
   "cell_type": "code",
   "execution_count": null,
   "metadata": {},
   "outputs": [],
   "source": [
    "print('Loading data...')\n",
    "download_comments = True\n",
    "file_name = 'data/comments.txt'\n",
    "if os.path.isfile(file_name):\n",
    "    print('Existing file found!')\n",
    "    mtime = os.path.getmtime(file_name)\n",
    "    print(\"last modified: %s\" % dt.datetime.fromtimestamp(mtime))\n",
    "    if (dt.datetime.now() - dt.datetime.fromtimestamp(mtime)).seconds<24*60*60: # if modified in last 24 hours\n",
    "        download_comments = False\n",
    "\n",
    "if download_comments:\n",
    "    print('Downloading comments...')\n",
    "    reddit_user_comment_reader = RedditUserCommentReader('poem_for_your_sprog', verbose = True)\n",
    "    all_comments = reddit_user_comment_reader.get_comments()\n",
    "    print('Saving to file...')\n",
    "    with open(file_name, 'w') as outfile:\n",
    "        json.dump(all_comments, outfile)\n",
    "else:   \n",
    "    print('Loading comments from file...')\n",
    "    with open(file_name, 'r') as infile:\n",
    "        all_comments = json.load(infile)\n",
    "print('Done.')"
   ]
  },
  {
   "cell_type": "code",
   "execution_count": null,
   "metadata": {},
   "outputs": [],
   "source": [
    "def format_awards(x):\n",
    "    return ', '.join([y['name'] + ': ' + str(y['count']) for y in x])\n",
    "\n",
    "# Create DataFrame\n",
    "df = pd.DataFrame(all_comments)\n",
    "df = df[df['author']!='[deleted]']\n",
    "df['datetime'] = df['created_utc'].apply(dt.datetime.fromtimestamp)\n",
    "df['date'] = df['datetime'].dt.date\n",
    "df['awards_simple'] = df['all_awardings'].apply(lambda x: format_awards(x)) \n",
    "df['comment_cleaned'] = df['body'].apply(clean_comment)"
   ]
  },
  {
   "cell_type": "markdown",
   "metadata": {},
   "source": [
    "# Comments per day"
   ]
  },
  {
   "cell_type": "markdown",
   "metadata": {},
   "source": [
    "Let's start by simply looking at the amount of poems over time. As we can see below on the extraordinarily productive days, sprog provides the world with about 5 or 6 poems, and his productivity seems to have increased somewhat over time. The outlier of 12 comments in June is the ['Ask Me Anything'](https://www.reddit.com/r/books/comments/3aungz/hi_im_sam_garland_aka_upoem_for_your_sprog_ive/), or AMA in short, where he answered questions of fellow Redditors."
   ]
  },
  {
   "cell_type": "code",
   "execution_count": null,
   "metadata": {},
   "outputs": [],
   "source": [
    "df_comments_per_day= df.groupby(['date'])['date'].agg(n='count')\n",
    "idx = pd.date_range(df_comments_per_day.index.min(), dt.datetime.today())\n",
    "df_comments_per_day = df_comments_per_day.reindex(idx, fill_value=0)"
   ]
  },
  {
   "cell_type": "code",
   "execution_count": null,
   "metadata": {},
   "outputs": [],
   "source": [
    "fig = go.Figure()\n",
    "fig.add_trace(\n",
    "    go.Scatter(\n",
    "        x=df_comments_per_day.index,\n",
    "        y=df_comments_per_day['n'],\n",
    "        mode='lines',\n",
    "        name='lines'\n",
    "    )\n",
    ")\n",
    "fig.update_layout(\n",
    "    title='Number of comments on Reddit per day by u/poem_for_your_sprog',\n",
    "    title_x=0.5,\n",
    "    template = 'simple_white',\n",
    "    xaxis_title='Day',\n",
    "    yaxis_title='Number of comments',\n",
    "    annotations=[\n",
    "        go.layout.Annotation(\n",
    "            x='2015-6-23',\n",
    "            y=12,\n",
    "            xref=\"x\",\n",
    "            yref=\"y\",\n",
    "            text=\"AMA\",\n",
    "            showarrow=True,\n",
    "            arrowhead=2,\n",
    "            ax=-50,\n",
    "            ay=0\n",
    "        )\n",
    "    ]\n",
    ")\n",
    "fig.show()"
   ]
  },
  {
   "cell_type": "markdown",
   "metadata": {},
   "source": [
    "Due to the long timeline, it becomes difficult to see any real trend in the daily data, so let's aggregate to month level."
   ]
  },
  {
   "cell_type": "code",
   "execution_count": null,
   "metadata": {},
   "outputs": [],
   "source": [
    "comments_per_month = df_comments_per_day.groupby(pd.Grouper(freq='M'))['n'].sum()"
   ]
  },
  {
   "cell_type": "code",
   "execution_count": null,
   "metadata": {},
   "outputs": [],
   "source": [
    "fig = go.Figure()\n",
    "fig.add_trace(\n",
    "    go.Scatter(\n",
    "        x=comments_per_month.index,\n",
    "        y=comments_per_month,\n",
    "        mode='lines',\n",
    "        name='lines'\n",
    "    )\n",
    ")\n",
    "fig.update_layout(\n",
    "    title='Number of comments on Reddit per month by u/poem_for_your_sprog',\n",
    "    title_x=0.5,\n",
    "    template = 'simple_white',\n",
    "    xaxis_title='Month',\n",
    "    yaxis_title='Number of comments'\n",
    ")\n",
    "fig.show()"
   ]
  },
  {
   "cell_type": "code",
   "execution_count": null,
   "metadata": {},
   "outputs": [],
   "source": [
    "# Remove AMA comments, and other comments that do not look like poems.\n",
    "df = df[df['date']!=dt.date(2015,6,23)]\n",
    "df.reset_index(inplace=True)"
   ]
  },
  {
   "cell_type": "code",
   "execution_count": null,
   "metadata": {},
   "outputs": [],
   "source": [
    "df.to_pickle('data/df.pkl')"
   ]
  },
  {
   "cell_type": "markdown",
   "metadata": {},
   "source": [
    "# Average line length"
   ]
  },
  {
   "cell_type": "markdown",
   "metadata": {},
   "source": [
    "Sprog writes both poems with very short lines, as well as poems with longer ones. A histogram of the average number of characters on a line per poem should give us a better idea of the distribution:"
   ]
  },
  {
   "cell_type": "code",
   "execution_count": null,
   "metadata": {},
   "outputs": [],
   "source": [
    "df['linebreaks'] = df['comment_cleaned'].apply(lambda x: sum(1 for _ in re.finditer(r'>', x)))\n",
    "df['comment_length']= df['comment_cleaned'].str.len()\n",
    "df['average_line_length'] = df['comment_length']/(df['linebreaks']+1)"
   ]
  },
  {
   "cell_type": "code",
   "execution_count": null,
   "metadata": {},
   "outputs": [],
   "source": [
    "fig = go.Figure()\n",
    "fig.add_trace(\n",
    "    go.Histogram(\n",
    "        x=df['average_line_length'],    \n",
    "        xbins=dict(\n",
    "                start=0,\n",
    "                end=200,\n",
    "                size=1\n",
    "        )\n",
    "    )\n",
    ")\n",
    "fig.update_layout(\n",
    "    title='Histogram of the average characters per line by u/poem_for_your_sprog',\n",
    "    title_x=0.5,\n",
    "    template = 'simple_white',\n",
    "    xaxis_title='Day',\n",
    "    yaxis_title='Number of comments'\n",
    ")\n",
    "fig.show()"
   ]
  },
  {
   "cell_type": "markdown",
   "metadata": {},
   "source": [
    "That's quite a wide spread! Some poems have on average lines that are three times longer than other poems. This makes one wonder what those poems look like.. Printing many poems here might not be the best solution, so let's put the 100 poems with the longest average line length and the the 100 poems with the longest average line length in a plot that allows you to read the poems by hovering over the points. "
   ]
  },
  {
   "cell_type": "code",
   "execution_count": null,
   "metadata": {},
   "outputs": [],
   "source": [
    "df = df[df['comment_cleaned'].apply(len)>0]\n",
    "df = df[df['linebreaks']>0]\n",
    "df = df[df['average_line_length']<55]"
   ]
  },
  {
   "cell_type": "code",
   "execution_count": null,
   "metadata": {},
   "outputs": [],
   "source": [
    "df_short = df.sort_values('average_line_length').head(100)"
   ]
  },
  {
   "cell_type": "code",
   "execution_count": null,
   "metadata": {},
   "outputs": [],
   "source": [
    "fig = go.Figure(\n",
    "        data=go.Scatter(\n",
    "            x=df_short['average_line_length'],\n",
    "            y=df_short['score'],\n",
    "            mode='markers',\n",
    "            marker=dict(\n",
    "                size = 8,\n",
    "                line_width=1,\n",
    "                opacity=0.7\n",
    "            ),\n",
    "            hoverinfo = 'text',\n",
    "            text=[re.sub('>','<br>',comment) for comment in df_short['comment_cleaned']]\n",
    "        )\n",
    ")\n",
    "\n",
    "fig.update_layout(\n",
    "    title='The 100 poems with the shortest line length by u/poem_for_your_sprog',\n",
    "    title_x=0.5,\n",
    "    template='simple_white',\n",
    "    xaxis_title='Average line length',\n",
    "    yaxis_title='Score'\n",
    ")\n",
    "fig.show()"
   ]
  },
  {
   "cell_type": "code",
   "execution_count": null,
   "metadata": {},
   "outputs": [],
   "source": [
    "df_long = df.sort_values('average_line_length',ascending=False).head(100)"
   ]
  },
  {
   "cell_type": "code",
   "execution_count": null,
   "metadata": {},
   "outputs": [],
   "source": [
    "fig = go.Figure(\n",
    "        data=go.Scatter(\n",
    "            x=df_long['average_line_length'],\n",
    "            y=df_long['score'],\n",
    "            mode='markers',\n",
    "            marker=dict(\n",
    "                size = 8,\n",
    "                line_width=1,\n",
    "                opacity=0.7\n",
    "            ),\n",
    "            hoverinfo = 'text',\n",
    "            text=[re.sub('>','<br>',comment) for comment in df_long['comment_cleaned']]\n",
    "        )\n",
    ")\n",
    "\n",
    "fig.update_layout(\n",
    "    title='The 100 poems with the longest line length by u/poem_for_your_sprog',\n",
    "    title_x=0.5,\n",
    "    template='simple_white',\n",
    "    xaxis_title='Average line length',\n",
    "    yaxis_title='Score'\n",
    ")\n",
    "fig.show()"
   ]
  },
  {
   "cell_type": "markdown",
   "metadata": {},
   "source": [
    "# Score & Awards"
   ]
  },
  {
   "cell_type": "code",
   "execution_count": null,
   "metadata": {},
   "outputs": [],
   "source": [
    "fig = go.Figure()\n",
    "fig.add_trace(\n",
    "    go.Histogram(\n",
    "            x=df['score'],    \n",
    "            xbins=dict(\n",
    "                size=250\n",
    "        )\n",
    "    )\n",
    ")\n",
    "fig.update_layout(\n",
    "    title='Histogram of the scores of poems by by u/poem_for_your_sprog',\n",
    "    title_x=0.5,\n",
    "    template = 'simple_white',\n",
    "    xaxis_title='Score',\n",
    "    yaxis_title='Number of comments'\n",
    ")\n",
    "fig.show()"
   ]
  },
  {
   "cell_type": "code",
   "execution_count": null,
   "metadata": {},
   "outputs": [],
   "source": [
    "fig = go.Figure()\n",
    "fig.add_trace(\n",
    "    go.Histogram(\n",
    "        x=df['total_awards_received'],    \n",
    "        xbins=dict(\n",
    "            size=1\n",
    "        )\n",
    "    )\n",
    ")\n",
    "fig.update_layout(\n",
    "    title='Histogram of the number of awards per comment by u/poem_for_your_sprog',\n",
    "    title_x=0.5,\n",
    "    template='simple_white',\n",
    "    xaxis_title='Number of awards',\n",
    "    yaxis_title='Number of comments'\n",
    ")\n",
    "fig.show()"
   ]
  },
  {
   "cell_type": "code",
   "execution_count": null,
   "metadata": {},
   "outputs": [],
   "source": [
    "fig = go.Figure(\n",
    "        data=go.Scatter(\n",
    "            x=df['total_awards_received'],\n",
    "            y=df['score'],\n",
    "            mode='markers',\n",
    "            marker=dict(\n",
    "                size = 8,\n",
    "                line_width=1,\n",
    "                opacity=0.7\n",
    "            ),\n",
    "            hoverinfo = 'text',\n",
    "            text=['score: {}<br>{}<br><br>'.format(row['score'],row['awards_simple']) \n",
    "                  + re.sub('>','<br>',row['comment_cleaned']) for index, row in df.iterrows()]\n",
    "        )\n",
    ")\n",
    "\n",
    "fig.update_layout(\n",
    "    title='Score versus number of awards of the poems by u/poem_for_your_sprog',\n",
    "    title_x=0.5,\n",
    "    template='simple_white',\n",
    "    xaxis_title='Number of awards received',\n",
    "    yaxis_title='Score'\n",
    ")\n",
    "fig.show()"
   ]
  },
  {
   "cell_type": "markdown",
   "metadata": {},
   "source": [
    "# Word analysis"
   ]
  },
  {
   "cell_type": "code",
   "execution_count": null,
   "metadata": {},
   "outputs": [],
   "source": [
    "tokenizer = RegexpTokenizer(r'\\w+')\n",
    "stop_words = nltk.corpus.stopwords.words('english')\n",
    "comments = df['comment_cleaned'].str.cat(sep=' ')\n",
    "tokens = tokenizer.tokenize(comments)\n",
    "tokens = [t for t in tokens if not t in stop_words]\n",
    "frequency_dist = nltk.FreqDist(tokens)\n",
    "most_common = frequency_dist.most_common(80)"
   ]
  },
  {
   "cell_type": "code",
   "execution_count": null,
   "metadata": {},
   "outputs": [],
   "source": [
    "fig = go.Figure()\n",
    "fig.add_trace(\n",
    "    go.Bar(\n",
    "        y=[x[0] for x in most_common[::-1]],\n",
    "        x=[x[1] for x in most_common[::-1]],\n",
    "        name='SF Zoo',\n",
    "        orientation='h'\n",
    "    )\n",
    ")\n",
    "fig.update_layout(\n",
    "        width=800, \n",
    "        height=900,\n",
    "        title='Most occuring words in comments by u/poem_for_your_sprog',\n",
    "        title_x=0.5,\n",
    "        template='simple_white',\n",
    "        xaxis_title='Occurence',\n",
    "        yaxis_title='',\n",
    "        yaxis=dict(\n",
    "            tickfont=dict( size=10),\n",
    "            tickvals=[x[0] for x in most_common[::-1]]\n",
    "    )\n",
    ")\n",
    "fig.show()"
   ]
  },
  {
   "cell_type": "markdown",
   "metadata": {},
   "source": [
    "# What about Timmy?"
   ]
  },
  {
   "cell_type": "code",
   "execution_count": null,
   "metadata": {},
   "outputs": [],
   "source": [
    "comments_about_timmy = np.array(['timmy' in comment for comment in df['comment_cleaned']])\n",
    "comments_about_timmy_fucking_dying = np.array(['timmy fucking died' in comment for comment in df['comment_cleaned']])"
   ]
  },
  {
   "cell_type": "code",
   "execution_count": null,
   "metadata": {},
   "outputs": [],
   "source": [
    "print('Comments about Timmy: {}'.format(comments_about_timmy.sum()))\n",
    "print('Comments about Timmy fucking dying: {}'.format(comments_about_timmy_fucking_dying.sum()))\n",
    "print('Comments about Timmy that do not end with Timmy fucking dying: {}'\n",
    "      .format(comments_about_timmy.sum()-comments_about_timmy_fucking_dying.sum()))"
   ]
  },
  {
   "cell_type": "code",
   "execution_count": null,
   "metadata": {},
   "outputs": [],
   "source": [
    "fig = go.Figure(data=[\n",
    "                    go.Pie(\n",
    "                        labels=['Timmy fucking dying','Timmy not fucking dying'], \n",
    "                        values=[comments_about_timmy_fucking_dying.sum(),\n",
    "                             comments_about_timmy.sum()-comments_about_timmy_fucking_dying.sum()], hole=.3\n",
    "        )\n",
    "    ]\n",
    ")\n",
    "fig.update_layout(\n",
    "        template='simple_white'\n",
    ")\n",
    "fig.show()"
   ]
  },
  {
   "cell_type": "markdown",
   "metadata": {},
   "source": [
    "So.. What happens to Timmy if he doesn't fucking die?"
   ]
  },
  {
   "cell_type": "code",
   "execution_count": null,
   "metadata": {},
   "outputs": [],
   "source": [
    "df_timmy_not_dying = df[(comments_about_timmy) & (~comments_about_timmy_fucking_dying)]\n",
    "df_timmy_not_dying['ending'] = [x.split('>')[-1] for x in df_timmy_not_dying['comment_cleaned']]\n",
    "df_timmy_not_dying = df_timmy_not_dying.sort_values('score')"
   ]
  },
  {
   "cell_type": "code",
   "execution_count": null,
   "metadata": {},
   "outputs": [],
   "source": [
    "fig = go.Figure()\n",
    "fig.add_trace(\n",
    "    go.Bar(\n",
    "        y=df_timmy_not_dying['ending'],\n",
    "        x=df_timmy_not_dying['score'],\n",
    "        name='SF Zoo',\n",
    "        orientation='h'\n",
    "    )\n",
    ")\n",
    "fig.update_layout(\n",
    "        width=800, \n",
    "        height=900,\n",
    "        title='Best scoring alternative endings to poems about Timmy',\n",
    "        title_x=0.5,\n",
    "        template='simple_white',\n",
    "        xaxis_title='Score',\n",
    "        yaxis_title='',\n",
    "        yaxis=dict(\n",
    "            tickfont=dict( size=10),\n",
    "            tickvals=df_timmy_not_dying['ending']\n",
    "    )\n",
    ")\n",
    "fig.show()"
   ]
  },
  {
   "cell_type": "code",
   "execution_count": null,
   "metadata": {},
   "outputs": [],
   "source": []
  }
 ],
 "metadata": {
  "kernelspec": {
   "display_name": "Python 3",
   "language": "python",
   "name": "python3"
  },
  "language_info": {
   "codemirror_mode": {
    "name": "ipython",
    "version": 3
   },
   "file_extension": ".py",
   "mimetype": "text/x-python",
   "name": "python",
   "nbconvert_exporter": "python",
   "pygments_lexer": "ipython3",
   "version": "3.7.5"
  }
 },
 "nbformat": 4,
 "nbformat_minor": 2
}
