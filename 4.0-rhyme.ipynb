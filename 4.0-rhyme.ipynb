{
 "cells": [
  {
   "cell_type": "code",
   "execution_count": null,
   "metadata": {},
   "outputs": [],
   "source": [
    "%%capture\n",
    "%load_ext autoreload\n",
    "%autoreload 2"
   ]
  },
  {
   "cell_type": "code",
   "execution_count": null,
   "metadata": {},
   "outputs": [],
   "source": [
    "import string\n",
    "import datetime as dt\n",
    "import pandas as pd\n",
    "import numpy as np\n",
    "import time\n",
    "import re\n",
    "import matplotlib.pyplot as plt \n",
    "from plotly.offline import download_plotlyjs, init_notebook_mode\n",
    "import plotly.graph_objs as go\n",
    "from plotly.subplots import make_subplots\n",
    "init_notebook_mode(connected=False)\n",
    "\n",
    "from src.utils import print2_list, print2, export_ipynb_for_github_pages\n",
    "from src.plotly import plot_histogram, plot_timeline, plot_horizontal_bar, plot_heatmap, plot_grouped_scatter\n",
    "from src.data import load_data\n",
    "\n",
    "pd.set_option('display.max_rows', 500)\n",
    "pd.set_option('display.max_columns', 500)\n",
    "pd.set_option('display.width', 1000)\n",
    "pd.set_option('display.max_colwidth', -1)\n",
    "\n",
    "import nltk\n",
    "from nltk.tokenize import RegexpTokenizer\n",
    "nltk.download('stopwords')\n",
    "nltk.download('punkt')\n",
    "\n",
    "df = load_data('data/comments.txt', False)\n",
    "df = df[df['type']=='poem']"
   ]
  },
  {
   "cell_type": "markdown",
   "metadata": {},
   "source": [
    "# Metre"
   ]
  },
  {
   "cell_type": "code",
   "execution_count": null,
   "metadata": {},
   "outputs": [],
   "source": [
    "from string import punctuation"
   ]
  },
  {
   "cell_type": "code",
   "execution_count": null,
   "metadata": {},
   "outputs": [],
   "source": [
    "# * = acatalectic, i.e. the last (unstressed) syllable is omitted\n",
    "# ** = iambic subsitution, i.e. the first (unstressed) syllable is omitted from an anapestic foot\n",
    "\n",
    "known_metres = {\n",
    "    'iambic hexameter'       : '010101010101',\n",
    "    'iambic pentameter'      : '0101010101',\n",
    "    'iambic tetrameter'      : '01010101',\n",
    "    'iambic trimeter'        : '010101',\n",
    "    'iambic dimeter'         : '0101',\n",
    "    'iambic meter'           : '01',\n",
    "    \n",
    "    'anapestic tetrameter'   : '001001001001',\n",
    "    'anapestic tetrameter**' : '01001001001',\n",
    "    'anapestic trimeter'     : '001001001',\n",
    "    'anapestic trimeter**'   : '01001001',\n",
    "    'anapestic dimeter'      : '001001',\n",
    "    'anapestic dimeter**'    : '01001',\n",
    "    'anapestic meter'        : '001',\n",
    "\n",
    "    'trochaic hexameter'     : '101010101010',\n",
    "    'trochaic hexameter*'    : '10101010101',\n",
    "    'trochaic pentameter'    : '1010101010',\n",
    "    'trochaic pentameter*'   : '101010101',\n",
    "    'trochaic tetrameter'    : '10101010',\n",
    "    'trochaic tetrameter*'   : '1010101',\n",
    "    'trochaic trimeter'      : '101010',\n",
    "    'trochaic trimeter*'     : '10101',\n",
    "    'trochaic bimeter'       : '1010',\n",
    "    'trochaic bimeter*'      : '101',\n",
    "    'trochaic meter'         : '10',\n",
    "}\n",
    "known_metres_inv = inv_map = {v: k for k, v in known_metres.items()}"
   ]
  },
  {
   "cell_type": "code",
   "execution_count": null,
   "metadata": {},
   "outputs": [],
   "source": [
    "display(known_metres)"
   ]
  },
  {
   "cell_type": "code",
   "execution_count": null,
   "metadata": {},
   "outputs": [],
   "source": [
    "from src.metre import get_word_scansion, get_line_scansion, get_syllables_per_line_combined, \\\n",
    "combine_line_scansions, merge_lines, get_known_metre\n",
    "\n",
    "# Determine the scansion of each poem, and which lines to combine based on this scansion.\n",
    "df['poem_as_list'] = [poem.split('>') for poem in df['poem']]\n",
    "df['scansion'] = [[get_line_scansion(line) for line in poem] for poem in df['poem_as_list']]\n",
    "df['lines_to_combine'] = [combine_line_scansions(x) for x in df['scansion']]\n",
    "\n",
    "# combine scansion and poem lines based on the suggested improvements.\n",
    "df['scansion_modified'] = [merge_lines(row['scansion'], row['lines_to_combine']) for ix, row in df.iterrows()]\n",
    "df['poem_modified_as_list'] = [merge_lines(row['poem_as_list'], row['lines_to_combine'], sep = ' ') for ix, row in df.iterrows()]\n",
    "df['poem_modified'] = ['>'.join(x) for x in df['poem_modified_as_list']]\n",
    "\n",
    "# Determine which of our known metres the poem is.\n",
    "df['metre_list'] = [get_known_metre(x, known_metres_inv) for x in df['scansion_modified']]\n",
    "df['metre'] = [', '.join(x) for x in df['metre_list']]"
   ]
  },
  {
   "cell_type": "markdown",
   "metadata": {},
   "source": [
    "# Rhyming"
   ]
  },
  {
   "cell_type": "code",
   "execution_count": null,
   "metadata": {},
   "outputs": [],
   "source": [
    "import pronouncing\n",
    "from src.rhyme_metre import get_last_word"
   ]
  },
  {
   "cell_type": "code",
   "execution_count": null,
   "metadata": {},
   "outputs": [],
   "source": [
    "import string\n",
    "\n",
    "def get_rhyme_scheme(last_words_per_line):\n",
    "    alphabet = string.ascii_lowercase\n",
    "    rhyme_scheme = np.empty(len(last_words_per_line),dtype=str)\n",
    "    k=0\n",
    "    for i in range(len(last_words_per_line)):\n",
    "        if rhyme_scheme[i]=='':\n",
    "            if last_words_per_line[i] is not None:\n",
    "                rhyme_scheme[i]=alphabet[k % 26]\n",
    "                rhyme_list = pronouncing.rhymes(last_words_per_line[i])\n",
    "                rhyme_scheme[(np.array([x in rhyme_list for x in last_words_per_line]) & (rhyme_scheme == ''))] = alphabet[k % 26]\n",
    "                k+=1\n",
    "            else:\n",
    "                rhyme_scheme[i] = '?'               \n",
    "    return ''.join(rhyme_scheme) "
   ]
  },
  {
   "cell_type": "code",
   "execution_count": null,
   "metadata": {},
   "outputs": [],
   "source": [
    "rhyme_schemes = [get_rhyme_scheme(x) for x in last_words_list]\n",
    "df['rhyme_scheme'] = rhyme_schemes"
   ]
  },
  {
   "cell_type": "code",
   "execution_count": null,
   "metadata": {},
   "outputs": [],
   "source": [
    "most_common_rhyme_schemes = df['rhyme_scheme'].value_counts().head(15)"
   ]
  },
  {
   "cell_type": "code",
   "execution_count": null,
   "metadata": {},
   "outputs": [],
   "source": [
    "fig = plot_horizontal_bar(\n",
    "    labels = most_common_rhyme_schemes.index[::-1],\n",
    "    values = most_common_rhyme_schemes[::-1],\n",
    "    title = 'The 15 most common rhyming schemes in poems by /u/poem_for_your_sprog',\n",
    "    xaxis_title = 'Number of poems',\n",
    "    yaxis_title='',\n",
    "    figsize=(800,600)\n",
    ")\n",
    "fig.show()"
   ]
  },
  {
   "cell_type": "code",
   "execution_count": null,
   "metadata": {},
   "outputs": [],
   "source": [
    "df_top_rhymes = df[df['rhyme_scheme'].isin(most_common_rhyme_schemes.index[:10])]"
   ]
  },
  {
   "cell_type": "code",
   "execution_count": null,
   "metadata": {},
   "outputs": [],
   "source": [
    "df_top_rhymes = (df_top_rhymes\n",
    "                 .groupby([\"rhyme_scheme\"])\n",
    "                 .apply(lambda x: x.sort_values([\"ups\"], ascending = False))\n",
    "                 .reset_index(drop=True)\n",
    "                 .groupby('rhyme_scheme')\n",
    "                 .head(10))"
   ]
  },
  {
   "cell_type": "code",
   "execution_count": null,
   "metadata": {},
   "outputs": [],
   "source": [
    "fig = go.Figure()\n",
    "\n",
    "for rhyme_scheme in most_common_rhyme_schemes.index[:10]:\n",
    "    df_subset = df_top_rhymes[df_top_rhymes['rhyme_scheme'] == rhyme_scheme]\n",
    "    fig.add_trace(go.Scatter(\n",
    "        x=df_subset['average_line_length'],\n",
    "        y=df_subset['ups'],\n",
    "        mode='markers',\n",
    "        name=rhyme_scheme,\n",
    "        marker=dict(\n",
    "            size = 8,\n",
    "            line_width=1,\n",
    "            opacity=0.7\n",
    "        ),\n",
    "        hoverinfo = 'text',\n",
    "        text=[re.sub('>','<br>',comment) for comment in df_subset['poem']]\n",
    "    )\n",
    " )\n",
    "\n",
    "\n",
    "fig.update_layout(\n",
    "    title='Top rated poems in the 10 most common rhyming schemes by u/poem_for_your_sprog',\n",
    "    title_x=0.5,\n",
    "    template='simple_white',\n",
    "    xaxis_title='Average line length',\n",
    "    yaxis_title='Upvotes'\n",
    ")\n",
    "fig.show()"
   ]
  },
  {
   "cell_type": "markdown",
   "metadata": {},
   "source": [
    "# Rhyme sets"
   ]
  },
  {
   "cell_type": "code",
   "execution_count": null,
   "metadata": {},
   "outputs": [],
   "source": [
    "def get_rhyme_tuples(last_words_per_line):\n",
    "    all_rhymes = list()\n",
    "    for i in range(len(last_words_per_line)-1):\n",
    "        if last_words_per_line[i] is not None:\n",
    "            rhymes_with = pronouncing.rhymes(last_words_per_line[i])\n",
    "            next_words = last_words_per_line[(i+1):np.min([len(last_words_per_line),i+4])]\n",
    "            index_of_next_rhyme_words = np.where([x in rhymes_with for x in next_words])[0]\n",
    "            if index_of_next_rhyme_words.size>0:\n",
    "                all_rhymes.append((last_words_per_line[i], next_words[index_of_next_rhyme_words[0]]))\n",
    "    return all_rhymes"
   ]
  },
  {
   "cell_type": "code",
   "execution_count": null,
   "metadata": {},
   "outputs": [],
   "source": [
    "from functools import reduce\n",
    "all_rhyme_tuples = [get_rhyme_tuples(x) for x in last_words_list]\n",
    "all_rhyme_tuples = reduce(lambda x,y: x+y,all_rhyme_tuples)"
   ]
  },
  {
   "cell_type": "code",
   "execution_count": null,
   "metadata": {},
   "outputs": [],
   "source": [
    "all_rhyme_tuples"
   ]
  },
  {
   "cell_type": "code",
   "execution_count": null,
   "metadata": {},
   "outputs": [],
   "source": [
    "all_rhyme_words = [x for tpl in all_rhyme_tuples for x in tpl]"
   ]
  },
  {
   "cell_type": "code",
   "execution_count": null,
   "metadata": {},
   "outputs": [],
   "source": [
    "df_rhyme_words = pd.DataFrame({'word':all_rhyme_words})"
   ]
  },
  {
   "cell_type": "code",
   "execution_count": null,
   "metadata": {},
   "outputs": [],
   "source": [
    "df_rhyme_words.groupby('word')['word'].count().sort_values(ascending=False).head(100)"
   ]
  }
 ],
 "metadata": {
  "kernelspec": {
   "display_name": "Python 3",
   "language": "python",
   "name": "python3"
  },
  "language_info": {
   "codemirror_mode": {
    "name": "ipython",
    "version": 3
   },
   "file_extension": ".py",
   "mimetype": "text/x-python",
   "name": "python",
   "nbconvert_exporter": "python",
   "pygments_lexer": "ipython3",
   "version": "3.7.5"
  }
 },
 "nbformat": 4,
 "nbformat_minor": 2
}
