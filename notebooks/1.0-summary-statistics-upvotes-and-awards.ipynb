{
 "cells": [
  {
   "cell_type": "code",
   "execution_count": null,
   "metadata": {},
   "outputs": [],
   "source": [
    "%%capture\n",
    "%load_ext autoreload\n",
    "%autoreload 2\n",
    "\n",
    "import os\n",
    "os.chdir('..')"
   ]
  },
  {
   "cell_type": "code",
   "execution_count": null,
   "metadata": {},
   "outputs": [],
   "source": [
    "import nltk\n",
    "from nltk.tokenize import RegexpTokenizer\n",
    "nltk.download('stopwords')\n",
    "nltk.download('punkt')"
   ]
  },
  {
   "cell_type": "code",
   "execution_count": null,
   "metadata": {},
   "outputs": [],
   "source": [
    "import string\n",
    "import datetime as dt\n",
    "import pandas as pd\n",
    "import numpy as np\n",
    "import time\n",
    "import re\n",
    "import plotly.graph_objs as go\n",
    "from plotly.offline import init_notebook_mode\n",
    "init_notebook_mode(connected=True)\n",
    "\n",
    "from src.utils import print2_list, print2\n",
    "from src.plotly import plot_histogram, plot_timeline, plot_horizontal_bar, plot_heatmap, plot_scatter, plot_events_timeline\n",
    "from src.reddit_user_comment_reader import RedditUserCommentReader\n",
    "from src.data_frame_parser import DataFrameParser\n",
    "\n",
    "pd.set_option('display.max_rows', 500)\n",
    "pd.set_option('display.max_columns', 500)\n",
    "pd.set_option('display.width', 1000)\n",
    "pd.set_option('display.max_colwidth', None)"
   ]
  },
  {
   "cell_type": "markdown",
   "metadata": {},
   "source": [
    "## Read data"
   ]
  },
  {
   "cell_type": "code",
   "execution_count": null,
   "metadata": {},
   "outputs": [],
   "source": [
    "comment_reader = RedditUserCommentReader('poem_for_your_sprog','data')\n",
    "df = comment_reader.read()\n",
    "df = DataFrameParser().parse(df)"
   ]
  },
  {
   "cell_type": "markdown",
   "metadata": {
    "tags": []
   },
   "source": [
    "# Comments per day"
   ]
  },
  {
   "cell_type": "code",
   "execution_count": null,
   "metadata": {},
   "outputs": [],
   "source": [
    "df_comments_per_day= df.groupby(['date'])['date'].agg(n='count')\n",
    "idx = pd.date_range(df_comments_per_day.index.min(), dt.datetime.today())\n",
    "df_comments_per_day = df_comments_per_day.reindex(idx, fill_value=0)"
   ]
  },
  {
   "cell_type": "code",
   "execution_count": null,
   "metadata": {},
   "outputs": [],
   "source": [
    "fig = plot_timeline(\n",
    "    x=df_comments_per_day.index,\n",
    "    y=df_comments_per_day['n'],\n",
    "    title=None,\n",
    "    xaxis_title='Day',\n",
    "    yaxis_title='Number of comments',\n",
    "    annotations=[\n",
    "        go.layout.Annotation(\n",
    "            x='2015-6-23',\n",
    "            y=10,\n",
    "            xref=\"x\",\n",
    "            yref=\"y\",\n",
    "            text=\"AMA\",\n",
    "            showarrow=True,\n",
    "            arrowhead=2,\n",
    "            ax=-50,\n",
    "            ay=0\n",
    "        )\n",
    "    ]\n",
    ")\n",
    "fig.show()\n",
    "fig.write_json('plots/1/plot_1_comment_count_per_day.json')"
   ]
  },
  {
   "cell_type": "code",
   "execution_count": null,
   "metadata": {},
   "outputs": [],
   "source": [
    "# Remove AMA comments\n",
    "df = df[df['date']!=dt.date(2015,6,23)]\n",
    "df.reset_index(inplace=True)"
   ]
  },
  {
   "cell_type": "code",
   "execution_count": null,
   "metadata": {},
   "outputs": [],
   "source": [
    "comments_per_month = df_comments_per_day.groupby(pd.Grouper(freq='M'))['n'].sum()"
   ]
  },
  {
   "cell_type": "code",
   "execution_count": null,
   "metadata": {},
   "outputs": [],
   "source": [
    "fig = plot_timeline(\n",
    "    x=comments_per_month.index,\n",
    "    y=comments_per_month,\n",
    "    title='Number of comments on Reddit per month by u/poem_for_your_sprog',\n",
    "    xaxis_title='Month',\n",
    "    yaxis_title='Number of comments'\n",
    ")\n",
    "fig.show()\n",
    "fig.write_json('plots/1/plot_2_comment_count_per_month.json')"
   ]
  },
  {
   "cell_type": "code",
   "execution_count": null,
   "metadata": {},
   "outputs": [],
   "source": [
    "print('In total, there are {} comments by /u/poem_for_your_sprog on Reddit. \\nOut of those, {:.1f}% were comments within /r/AskReddit.'\n",
    "      .format(len(df), \n",
    "              len(df[df['subreddit_name_prefixed']=='r/AskReddit'])/len(df)*100)\n",
    "     )"
   ]
  },
  {
   "cell_type": "code",
   "execution_count": null,
   "metadata": {},
   "outputs": [],
   "source": [
    "df_poem_per_sub = df[df['subreddit_name_prefixed']!='r/AskReddit'][['subreddit_name_prefixed','date','poem','ups']]\n",
    "df_poem_per_sub['poem_ups'] = ['Upvotes: {}>'.format(row['ups']) + row['poem'] for ix, row in df_poem_per_sub.iterrows()]\n",
    "df_poem_per_sub = (\n",
    "    df_poem_per_sub\n",
    "    .groupby(['subreddit_name_prefixed','date'])['poem_ups']\n",
    "    .agg(poem_ups =  lambda x: '>---->'.join(list(x)), count = len)\n",
    "    .reset_index(inplace=False)\n",
    ")"
   ]
  },
  {
   "cell_type": "code",
   "execution_count": null,
   "metadata": {},
   "outputs": [],
   "source": [
    "df_poem_per_sub['subreddit_total'] = (\n",
    "    df_poem_per_sub['count']\n",
    "    .groupby(df_poem_per_sub['subreddit_name_prefixed'])\n",
    "    .transform('sum')\n",
    ")\n",
    "df_poem_per_sub = df_poem_per_sub.sort_values('subreddit_total')\n",
    "\n",
    "fig = plot_events_timeline(\n",
    "    x = df_poem_per_sub['date'],\n",
    "    y = df_poem_per_sub['subreddit_name_prefixed'],\n",
    "    text=[\"Total poems: {}<br>----<br>\".format(row['count']) + re.sub('>','<br>',row['poem_ups']) for ix,row in df_poem_per_sub.iterrows()],\n",
    "    title = 'Timeline of poems outside of /r/AskReddit by /u/poem_/for_your_sprog',\n",
    "    xaxis_title = 'Date',\n",
    "    yaxis_title = ''\n",
    ")\n",
    "fig.show()\n",
    "fig.write_json('plots/1/plot_3_comments_outside_of_askreddit.json')"
   ]
  },
  {
   "cell_type": "markdown",
   "metadata": {},
   "source": [
    "# Average line length"
   ]
  },
  {
   "cell_type": "code",
   "execution_count": null,
   "metadata": {
    "scrolled": true
   },
   "outputs": [],
   "source": [
    "fig = plot_histogram(\n",
    "    x = df['average_line_length'],    \n",
    "    params = {'xbins':dict(start=0,end=200,size=1)},\n",
    "    title = 'Histogram of the average characters per line by u/poem_for_your_sprog',\n",
    "    xaxis_title = 'Number of characters',\n",
    "    yaxis_title = 'Number of poems'\n",
    ")\n",
    "\n",
    "fig.show()\n",
    "fig.write_json('plots/1/plot_4_characters_per_line.json')"
   ]
  },
  {
   "cell_type": "code",
   "execution_count": null,
   "metadata": {},
   "outputs": [],
   "source": [
    "# remove outliers\n",
    "df = df[df['average_line_length']<65]\n",
    "df = df[df['poem'].apply(len)>0]\n",
    "df = df[df['number_of_lines']>1]"
   ]
  },
  {
   "cell_type": "code",
   "execution_count": null,
   "metadata": {},
   "outputs": [],
   "source": [
    "df_short = df.sort_values('average_line_length').head(100)\n",
    "df_long = df.sort_values('average_line_length',ascending=False).head(100)\n",
    "df_short_long = pd.concat([df_short,df_long])"
   ]
  },
  {
   "cell_type": "code",
   "execution_count": null,
   "metadata": {},
   "outputs": [],
   "source": [
    "fig = plot_scatter(\n",
    "    x=df_short_long['average_line_length'],\n",
    "    y=df_short_long['ups'],\n",
    "    text=[re.sub('>','<br>',row['poem']) for ix, row in df_short_long.iterrows()],\n",
    "    title='100 poems with the shortest and 100 poems with the <br>longest line length by u/poem_for_your_sprog',\n",
    "    xaxis_title='Average line length',\n",
    "    yaxis_title='Upvotes'\n",
    "    )\n",
    "fig.show()\n",
    "fig.write_json('plots/1/plot_5_short_and_long_poems.json')"
   ]
  },
  {
   "cell_type": "markdown",
   "metadata": {},
   "source": [
    "If you're done reading, let's move on to another histogram; the number of lines per poem."
   ]
  },
  {
   "cell_type": "code",
   "execution_count": null,
   "metadata": {},
   "outputs": [],
   "source": [
    "fig = plot_histogram(\n",
    "    x = df['number_of_lines'],    \n",
    "    params = {'xbins':dict(size=1)},\n",
    "    title = 'Histogram of the number of lines per poem by u/poem_for_your_sprog',\n",
    "    xaxis_title = 'Number of lines',\n",
    "    yaxis_title = 'Number of comments'\n",
    ")\n",
    "\n",
    "fig.show()\n",
    "fig.write_json('plots/1/plot_6_hist_number_of_lines.json')"
   ]
  },
  {
   "cell_type": "markdown",
   "metadata": {},
   "source": [
    "# Upvotes & Awards"
   ]
  },
  {
   "cell_type": "code",
   "execution_count": null,
   "metadata": {},
   "outputs": [],
   "source": [
    "print('Total number of upvotes on poems by /u/poem_for_your_sprog: {:,}'.format(df['ups'].sum()))"
   ]
  },
  {
   "cell_type": "code",
   "execution_count": null,
   "metadata": {},
   "outputs": [],
   "source": [
    "from collections import Counter\n",
    "c = Counter()\n",
    "for d in df['awards_dict']:\n",
    "    c.update(d)\n",
    "\n",
    "df_awards = (\n",
    "    pd.DataFrame.from_dict(\n",
    "        dict(c), \n",
    "        orient='index', \n",
    "        columns =['count']\n",
    "    )\n",
    "    .reset_index()\n",
    "    .sort_values('count', ascending=False)\n",
    ")\n",
    "\n",
    "df_awards['index'][~df_awards['index'].isin(df_awards['index'].head(10))] = 'other'\n",
    "df_awards = df_awards.groupby('index')['count'].sum().reset_index().sort_values('count', ascending=True)"
   ]
  },
  {
   "cell_type": "code",
   "execution_count": null,
   "metadata": {},
   "outputs": [],
   "source": [
    "fig = plot_horizontal_bar(labels=[x[0] for i, x in df_awards.iterrows()], \n",
    "                    values=[x[1] for i, x in df_awards.iterrows()],\n",
    "                    title = 'Awards received on poems by /u/poem_for_your_sprog.',\n",
    "                    xaxis_title = 'count', \n",
    "                    yaxis_title = \"\")\n",
    "\n",
    "fig.show()\n",
    "fig.write_json('plots/1/plot_7_awards.json')"
   ]
  },
  {
   "cell_type": "code",
   "execution_count": null,
   "metadata": {},
   "outputs": [],
   "source": [
    "fig = plot_histogram(\n",
    "    x = df['ups'],    \n",
    "    params = {'xbins':dict(size=250)},\n",
    "    title = 'Histogram of the upvotes on poems by u/poem_for_your_sprog',\n",
    "    xaxis_title = 'Upvotes',\n",
    "    yaxis_title = 'Number of comments'\n",
    ")\n",
    "fig.show()\n",
    "fig.write_json('plots/1/plot_8_hist_upvotes.json')"
   ]
  },
  {
   "cell_type": "code",
   "execution_count": null,
   "metadata": {},
   "outputs": [],
   "source": [
    "fig = plot_histogram(\n",
    "    x = df['total_awards_received'],    \n",
    "    params = {'xbins':dict(size=1)},\n",
    "    title = 'Histogram of the number of awards per comment by u/poem_for_your_sprog',\n",
    "    xaxis_title = 'Number of awards',\n",
    "    yaxis_title = 'Number of comments'\n",
    ")\n",
    "fig.show()\n",
    "fig.write_json('plots/1/plot_9_hist_awards.json')"
   ]
  },
  {
   "cell_type": "code",
   "execution_count": null,
   "metadata": {},
   "outputs": [],
   "source": [
    "top_awards = df['total_awards_received'].sort_values(ascending=False).index[:100]\n",
    "top_upvotes = df['ups'].sort_values(ascending=False).index[:100]\n",
    "top_poems = top_awards.union(top_upvotes)\n",
    "df_top = df.loc[top_poems]"
   ]
  },
  {
   "cell_type": "code",
   "execution_count": null,
   "metadata": {},
   "outputs": [],
   "source": [
    "fig = plot_scatter(\n",
    "    x=df_top['total_awards_received'],\n",
    "    y=df_top['ups'],\n",
    "    text=['upvotes: {}<br>awards: {}<br><br>'.format(row['ups'],row['total_awards_received']) \n",
    "                  + re.sub('>','<br>',row['poem']) for index, row in (df_top).iterrows()],\n",
    "    title='Upvotes versus number of awards of the top poems by u/poem_for_your_sprog',\n",
    "    xaxis_title='Number of awards received',\n",
    "    yaxis_title='Upvotes'\n",
    "    )\n",
    "fig.show()\n",
    "fig.write_json('plots/1/plot_10_most_upvotes_and_awards.json')"
   ]
  },
  {
   "cell_type": "code",
   "execution_count": null,
   "metadata": {},
   "outputs": [],
   "source": [
    "df_corr = df[['score','total_awards_received','average_line_length','number_of_lines']].corr()\n",
    "df_corr[df_corr==1]=np.nan\n",
    "\n",
    "fig = plot_heatmap(\n",
    "    z = df_corr.values,\n",
    "    x = df_corr.columns,\n",
    "    y = df_corr.columns,\n",
    "    title = 'Correlation plot',\n",
    "    figsize = (600,500)\n",
    ")\n",
    "fig.show()\n",
    "fig.write_json('plots/1/plot_11_correlation.json')"
   ]
  }
 ],
 "metadata": {
  "kernelspec": {
   "display_name": "poems",
   "language": "python",
   "name": "poems"
  },
  "language_info": {
   "codemirror_mode": {
    "name": "ipython",
    "version": 3
   },
   "file_extension": ".py",
   "mimetype": "text/x-python",
   "name": "python",
   "nbconvert_exporter": "python",
   "pygments_lexer": "ipython3",
   "version": "3.9.7"
  }
 },
 "nbformat": 4,
 "nbformat_minor": 4
}
