{
 "cells": [
  {
   "cell_type": "code",
   "execution_count": null,
   "metadata": {},
   "outputs": [],
   "source": [
    "%%capture\n",
    "%load_ext autoreload\n",
    "%autoreload 2"
   ]
  },
  {
   "cell_type": "code",
   "execution_count": null,
   "metadata": {},
   "outputs": [],
   "source": [
    "import string\n",
    "import datetime as dt\n",
    "import pandas as pd\n",
    "import numpy as np\n",
    "import time\n",
    "import re\n",
    "import matplotlib.pyplot as plt \n",
    "from plotly.offline import download_plotlyjs, init_notebook_mode\n",
    "import plotly.graph_objs as go\n",
    "from plotly.subplots import make_subplots\n",
    "init_notebook_mode(connected=False)\n",
    "\n",
    "from src.utils import print2_list, print2, export_ipynb_for_github_pages\n",
    "from src.plotly import plot_histogram, plot_timeline, plot_horizontal_bar, plot_heatmap, plot_grouped_scatter, plot_multiple_timelines\n",
    "from src.data import load_data\n",
    "\n",
    "pd.set_option('display.max_rows', 500)\n",
    "pd.set_option('display.max_columns', 500)\n",
    "pd.set_option('display.width', 1000)\n",
    "pd.set_option('display.max_colwidth', -1)\n",
    "\n",
    "import nltk\n",
    "from nltk.tokenize import RegexpTokenizer\n",
    "nltk.download('stopwords')\n",
    "nltk.download('punkt')\n",
    "\n",
    "df = load_data('data/comments.txt', False)\n",
    "df = df[df['type']=='poem']"
   ]
  },
  {
   "cell_type": "markdown",
   "metadata": {},
   "source": [
    "# Metre"
   ]
  },
  {
   "cell_type": "code",
   "execution_count": null,
   "metadata": {},
   "outputs": [],
   "source": [
    "from string import punctuation"
   ]
  },
  {
   "cell_type": "code",
   "execution_count": null,
   "metadata": {},
   "outputs": [],
   "source": [
    "# * = acatalectic, i.e. the last (unstressed) syllable is omitted\n",
    "# ** = iambic subsitution, i.e. the first (unstressed) syllable is omitted from an anapestic foot\n",
    "\n",
    "known_metres = {\n",
    "    'iambic hexameter'       : '010101010101',\n",
    "    'iambic pentameter'      : '0101010101',\n",
    "    'iambic tetrameter'      : '01010101',\n",
    "    'iambic trimeter'        : '010101',\n",
    "    'iambic dimeter'         : '0101',\n",
    "    'iambic meter'           : '01',\n",
    "    \n",
    "    'anapestic tetrameter'   : '001001001001',\n",
    "    'anapestic tetrameter**' : '01001001001',\n",
    "    'anapestic trimeter'     : '001001001',\n",
    "    'anapestic trimeter**'   : '01001001',\n",
    "    'anapestic dimeter'      : '001001',\n",
    "    'anapestic dimeter**'    : '01001',\n",
    "    'anapestic meter'        : '001',\n",
    "\n",
    "    'trochaic hexameter'     : '101010101010',\n",
    "    'trochaic hexameter*'    : '10101010101',\n",
    "    'trochaic pentameter'    : '1010101010',\n",
    "    'trochaic pentameter*'   : '101010101',\n",
    "    'trochaic tetrameter'    : '10101010',\n",
    "    'trochaic tetrameter*'   : '1010101',\n",
    "    'trochaic trimeter'      : '101010',\n",
    "    'trochaic trimeter*'     : '10101',\n",
    "    'trochaic bimeter'       : '1010',\n",
    "    'trochaic bimeter*'      : '101',\n",
    "    'trochaic meter'         : '10',\n",
    "    \n",
    "    'amphibrachic dimeter'   : '010010'\n",
    "}\n",
    "known_metres_inv = inv_map = {v: k for k, v in known_metres.items()}"
   ]
  },
  {
   "cell_type": "code",
   "execution_count": null,
   "metadata": {},
   "outputs": [],
   "source": [
    "display(known_metres)"
   ]
  },
  {
   "cell_type": "code",
   "execution_count": null,
   "metadata": {},
   "outputs": [],
   "source": [
    "from src.metre import get_word_scansion, get_line_scansion, get_syllables_per_line_combined, \\\n",
    "combine_line_scansions, merge_lines, get_known_metre\n",
    "\n",
    "# Determine the scansion of each poem, and which lines to combine based on this scansion.\n",
    "df['poem_as_list'] = [poem.split('>') for poem in df['poem']]\n",
    "df['scansion'] = [[get_line_scansion(line) for line in poem] for poem in df['poem_as_list']]\n",
    "df['lines_to_combine'] = [combine_line_scansions(x) for x in df['scansion']]\n",
    "\n",
    "# combine scansion and poem lines based on the suggested improvements.\n",
    "df['scansion_modified'] = [merge_lines(row['scansion'], row['lines_to_combine']) for ix, row in df.iterrows()]\n",
    "df['poem_modified_as_list'] = [merge_lines(row['poem_as_list'], row['lines_to_combine'], sep = ' ') for ix, row in df.iterrows()]\n",
    "df['poem_modified'] = ['>'.join(x) for x in df['poem_modified_as_list']]\n",
    "\n",
    "# Determine which of our known metres the poem is.\n",
    "df['metre_list'] = [get_known_metre(x, known_metres_inv) for x in df['scansion_modified']]\n",
    "df['metre'] = [', '.join(x) for x in df['metre_list']]"
   ]
  },
  {
   "cell_type": "code",
   "execution_count": null,
   "metadata": {},
   "outputs": [],
   "source": [
    "df_most_common_metres = (df\n",
    "                         .groupby('metre')\n",
    "                         .agg(n=('ups', len), \n",
    "                              avg_ups=('ups', 'mean'))\n",
    "                         .sort_values('n',ascending=False)\n",
    "                        )\n",
    "df_most_common_metres.reset_index(inplace=True)\n",
    "df_most_common_metres_10 = df_most_common_metres.head(10)"
   ]
  },
  {
   "cell_type": "code",
   "execution_count": null,
   "metadata": {},
   "outputs": [],
   "source": [
    "print('Total number of poems: {0}\\nTotal number of poems in top 10 metres: {1} ({2:.1f}% of total)'.format(\n",
    "    len(df),\n",
    "    df_most_common_metres_10['n'].sum(),\n",
    "    df_most_common_metres_10['n'].sum()/len(df)*100\n",
    "))"
   ]
  },
  {
   "cell_type": "code",
   "execution_count": null,
   "metadata": {},
   "outputs": [],
   "source": [
    "fig = plot_horizontal_bar(\n",
    "    labels = df_most_common_metres_10['metre'][::-1],\n",
    "    values = df_most_common_metres_10['n'][::-1],\n",
    "    title = 'The 10 most common metres in poems by /u/poem_for_your_sprog',\n",
    "    xaxis_title = 'Number of poems',\n",
    "    yaxis_title='',\n",
    "    figsize=(800,600)\n",
    ")\n",
    "fig.show()"
   ]
  },
  {
   "cell_type": "code",
   "execution_count": null,
   "metadata": {},
   "outputs": [],
   "source": [
    "fig = plot_grouped_scatter(\n",
    "    x = df_most_common_metres_10['n'],\n",
    "    y = df_most_common_metres_10['avg_ups'],\n",
    "    groups = df_most_common_metres_10['metre'],\n",
    "    unique_groups = df_most_common_metres_10['metre'],\n",
    "    text = np.array(['{}<br>Average upvotes: {}<br>n: {}'.format(row['metre'],round(row['avg_ups'],1),row['n'])  \n",
    "                       for index, row in (df_most_common_metres_10).iterrows()]),\n",
    "    title = 'Number of poems vs average number of upvotes of the 10 most common metres<br> by u/poem_for_your_sprog',\n",
    "    xaxis_title = 'n',\n",
    "    yaxis_title = 'Average upvotes'\n",
    ")\n",
    "fig.show()"
   ]
  },
  {
   "cell_type": "code",
   "execution_count": null,
   "metadata": {},
   "outputs": [],
   "source": [
    "# Create a DataFrame with the top 10 poems based on upvotes for each in the 10 most commonly used metres.\n",
    "df_poems_top_metres = df[df['metre'].isin(df_most_common_metres_10['metre'])]\n",
    "df_10_poems_top_metres = (df_poems_top_metres\n",
    "                 .groupby([\"metre\"])\n",
    "                 .apply(lambda x: x.sort_values([\"ups\"], ascending = False))\n",
    "                 .reset_index(drop=True)\n",
    "                 .groupby('metre')\n",
    "                 .head(10))"
   ]
  },
  {
   "cell_type": "code",
   "execution_count": null,
   "metadata": {},
   "outputs": [],
   "source": [
    "fig = plot_grouped_scatter(\n",
    "    x = df_10_poems_top_metres ['average_line_length'],\n",
    "    y = df_10_poems_top_metres ['ups'],\n",
    "    groups = df_10_poems_top_metres['metre'],\n",
    "    unique_groups = df_most_common_metres_10['metre'],\n",
    "    text = np.array([re.sub('>','<br>',comment) for comment in df_10_poems_top_metres ['poem']]),\n",
    "    title = 'Top rated poems in the 10 most common metres by u/poem_for_your_sprog',\n",
    "    xaxis_title = 'Average line length',\n",
    "    yaxis_title = 'Upvotes'\n",
    ")\n",
    "fig.show()"
   ]
  },
  {
   "cell_type": "code",
   "execution_count": null,
   "metadata": {},
   "outputs": [],
   "source": [
    "# Create a DataFrame with the total number of poems per metre per month, and the fraction of total\n",
    "df_poems_top_metres['date'] = pd.to_datetime(df_poems_top_metres['date'])\n",
    "df_poems_top_metres['month'] = df_poems_top_metres['date'].dt.to_period('M')\n",
    "df_metres_per_month = (df_poems_top_metres\n",
    "                            .groupby(['month','metre'])['month']\n",
    "                            .agg(n='count')\n",
    "                            .unstack('metre')\n",
    "                            .fillna(0)\n",
    "                            .stack('metre')\n",
    "                            .reset_index(inplace=False)\n",
    ")\n",
    "df_metres_per_month['month'] = [x.to_timestamp() for x in df_metres_per_month['month']]\n",
    "df_metres_per_month['month_total'] = df_metres_per_month['n'].groupby(df_metres_per_month['month']).transform('sum')\n",
    "df_metres_per_month['frac']=df_metres_per_month['n']/df_metres_per_month['month_total']"
   ]
  },
  {
   "cell_type": "code",
   "execution_count": null,
   "metadata": {},
   "outputs": [],
   "source": [
    "fig = plot_multiple_timelines(\n",
    "    x = df_metres_per_month['month'],\n",
    "    y = df_metres_per_month['frac'],\n",
    "    groups = df_metres_per_month['metre'],\n",
    "    unique_groups = df_most_common_metres_10['metre'],\n",
    "    text=np.array([\n",
    "        \"{}: {:.0f} ({:.2%})\".format(row['month'].strftime(\"%b %Y\"),\n",
    "                                     row['n'],\n",
    "                                     row['frac']) \n",
    "                   for ix, row in df_metres_per_month.iterrows()]),\n",
    "    title='Fraction of poems per metre per month',\n",
    "    xaxis_title = 'month',\n",
    "    yaxis_title ='fraction of poems',\n",
    "    figsize=(1000,1200)\n",
    ")\n",
    "\n",
    "fig.show()"
   ]
  },
  {
   "cell_type": "code",
   "execution_count": null,
   "metadata": {
    "scrolled": true
   },
   "outputs": [],
   "source": [
    "metre_examples = {\n",
    "    'iambic tetrameter, iambic trimeter':\n",
    "    {\n",
    "        'z_text' :  \n",
    "        [\n",
    "            ['i', 'should','have','hur','ried','youth','in','truth'],\n",
    "            ['and','moved','more','quick','ly','on','','']\n",
    "        ],\n",
    "        'z' : \n",
    "        [\n",
    "            [0,1,0,1,0,1,0,1],\n",
    "            [0,1,0,1,0,1,np.nan,np.nan]\n",
    "        ]\n",
    "    },\n",
    "    'anapestic tetrameter**':\n",
    "    {\n",
    "        'z_text' : \n",
    "        [\n",
    "            ['so', 'throw','off','the','chains','of','op','pres','sion','said','he'],\n",
    "            ['be','fair','ly','un','fet','terred','and','free','to','be','free']\n",
    "        ],\n",
    "        'z' : \n",
    "        [\n",
    "            [0,1,0,0,1,0,0,1,0,0,1],\n",
    "            [0,1,0,0,1,0,0,1,0,0,1]\n",
    "        ]\n",
    "    },\n",
    "    'iambic tetrameter':\n",
    "    {\n",
    "        'z_text' : \n",
    "        [\n",
    "            ['from','time','to','time','i','think','of','then'],\n",
    "            ['i','turn','my','gaze','be','fore','a','gain']\n",
    "        ],\n",
    "        'z' : \n",
    "        [\n",
    "            [0,1,0,1,0,1,0,1],\n",
    "            [0,1,0,1,0,1,0,1]\n",
    "        ]\n",
    "    },\n",
    "    'trochaic tetrameter, trochaic tetrameter*':\n",
    "    {\n",
    "        'z_text' : \n",
    "        [\n",
    "            ['would', 'you','suck','er','punch','a','mon','key?'],\n",
    "            ['would','you','up','per','cut','a','bear?','']\n",
    "        ],\n",
    "        'z' : \n",
    "        [\n",
    "            [1,0,1,0,1,0,1,0],\n",
    "            [1,0,1,0,1,0,1,np.nan]\n",
    "        ]\n",
    "    },\n",
    "        'trochaic tetrameter':\n",
    "    {\n",
    "        'z_text' : \n",
    "        [\n",
    "            ['wave','good','bye','your','e','go','bro','ther'],\n",
    "            ['kiss','your','kids','and','call','your', 'mo','ther']\n",
    "        ],\n",
    "        'z' : \n",
    "        [\n",
    "            [1,0,1,0,1,0,1,0],\n",
    "            [1,0,1,0,1,0,1,0]\n",
    "        ]\n",
    "    },\n",
    "    'amphibrachic dimeter, anapestic dimeter**':\n",
    "    {\n",
    "        'z_text' : \n",
    "        [\n",
    "            ['you\\'re','sea','soned','in','sad','ness'],\n",
    "            ['you\\'re','prac','ticed','in','doubt','']\n",
    "        ],\n",
    "        'z' : \n",
    "        [\n",
    "            [0,1,0,0,1,0],\n",
    "            [0,1,0,0,1,np.nan]\n",
    "        ]\n",
    "    },\n",
    "    'trochaic tetrameter*':\n",
    "    {\n",
    "        'z_text' : \n",
    "        [\n",
    "            ['when', 'you\\'re','full','of','doubt','and','fear'],\n",
    "            ['i\\'ll','be','with','you','wait','ing','here']\n",
    "        ],\n",
    "        'z' : \n",
    "        [\n",
    "            [1,0,1,0,1,0,1],\n",
    "            [1,0,1,0,1,0,1]\n",
    "        ]\n",
    "    },\n",
    "    'trochaic tetrameter, trochaic trimeter*':\n",
    "    {\n",
    "        'z_text' : \n",
    "        [\n",
    "            ['no','one\\'s','quite','as','strong','as','stan','ley'],\n",
    "            ['stan','ley\\'s','been','to','war','','','']\n",
    "        ],\n",
    "        'z' : \n",
    "        [\n",
    "            [1,0,1,0,1,0,1,0],\n",
    "            [1,0,1,0,1,np.nan,np.nan,np.nan]\n",
    "        ]\n",
    "    },\n",
    "   'iambic dimeter':\n",
    "    {\n",
    "        'z_text' : \n",
    "        [\n",
    "            ['my','name','is','dog'],\n",
    "            ['and','e','ven', 'though']\n",
    "        ],\n",
    "        'z' : \n",
    "        [\n",
    "            [0,1,0,1],\n",
    "            [0,1,0,1]\n",
    "        ]\n",
    "    },\n",
    "   'anapestic dimeter':\n",
    "    {\n",
    "        'z_text' : \n",
    "        [\n",
    "            ['i','re','mem','ber','the','way'],\n",
    "            ['that','i','thought','a','bout','love']\n",
    "        ],\n",
    "        'z' : \n",
    "        [\n",
    "            [0,0,1,0,0,1],\n",
    "            [0,0,1,0,0,1]\n",
    "        ]\n",
    "    },\n",
    "    \n",
    "}\n",
    "          \n",
    "import plotly.figure_factory as ff\n",
    "colorscale=['#d2d2d2','#1f77b4']\n",
    "\n",
    "for key, value in metre_examples.items():\n",
    "    fig = ff.create_annotated_heatmap(\n",
    "        value['z'][::-1], \n",
    "        annotation_text=value['z_text'][::-1], \n",
    "        colorscale=colorscale)\n",
    "    fig.update_layout(\n",
    "        height=150,\n",
    "        width=50*len(value['z'][0])+200,\n",
    "        margin=dict(l=20, r=200, t=25, b=10),\n",
    "        scene=dict(aspectmode='data'),\n",
    "        paper_bgcolor='rgba(0,0,0,0)',\n",
    "        plot_bgcolor='rgba(0,0,0,0)',\n",
    "        xaxis=dict(showgrid=False),\n",
    "        yaxis=dict(showgrid=False),\n",
    "        title = key\n",
    "    )\n",
    "    fig.show()"
   ]
  },
  {
   "cell_type": "code",
   "execution_count": null,
   "metadata": {},
   "outputs": [],
   "source": [
    "# less popular metres"
   ]
  },
  {
   "cell_type": "code",
   "execution_count": null,
   "metadata": {},
   "outputs": [],
   "source": [
    "df_most_common_metres_10to20 = df_most_common_metres.iloc[10:20]"
   ]
  },
  {
   "cell_type": "code",
   "execution_count": null,
   "metadata": {},
   "outputs": [],
   "source": [
    "fig = plot_horizontal_bar(\n",
    "    labels = df_most_common_metres_10to20['metre'][::-1],\n",
    "    values = df_most_common_metres_10to20['n'][::-1],\n",
    "    title = 'The 10 most common metres in poems by /u/poem_for_your_sprog',\n",
    "    xaxis_title = 'Number of poems',\n",
    "    yaxis_title='',\n",
    "    figsize=(800,600)\n",
    ")\n",
    "fig.show()"
   ]
  },
  {
   "cell_type": "code",
   "execution_count": null,
   "metadata": {},
   "outputs": [],
   "source": [
    "# Create a DataFrame with the top 10 poems based on upvotes for each in the 10 most commonly used metres.\n",
    "df_poems_top_metres = df[df['metre'].isin(df_most_common_metres_10to20['metre'])]\n",
    "df_10_poems_top_metres = (df_poems_top_metres\n",
    "                 .groupby([\"metre\"])\n",
    "                 .apply(lambda x: x.sort_values([\"ups\"], ascending = False))\n",
    "                 .reset_index(drop=True)\n",
    "                 .groupby('metre')\n",
    "                 .head(10))\n",
    "\n",
    "fig = plot_grouped_scatter(\n",
    "    x = df_10_poems_top_metres ['average_line_length'],\n",
    "    y = df_10_poems_top_metres ['ups'],\n",
    "    groups = df_10_poems_top_metres['metre'],\n",
    "    unique_groups = df_most_common_metres_10to20['metre'],\n",
    "    text = np.array([re.sub('>','<br>',comment) for comment in df_10_poems_top_metres ['poem']]),\n",
    "    title = 'Top rated poems in the 10 most common metres by u/poem_for_your_sprog',\n",
    "    xaxis_title = 'Average line length',\n",
    "    yaxis_title = 'Upvotes'\n",
    ")\n",
    "fig.show()"
   ]
  },
  {
   "cell_type": "code",
   "execution_count": null,
   "metadata": {},
   "outputs": [],
   "source": [
    "# shortcomings\n",
    "# - Most poems with the word 'every' in it are misclassified"
   ]
  },
  {
   "cell_type": "code",
   "execution_count": null,
   "metadata": {},
   "outputs": [],
   "source": []
  },
  {
   "cell_type": "code",
   "execution_count": null,
   "metadata": {},
   "outputs": [],
   "source": []
  },
  {
   "cell_type": "code",
   "execution_count": null,
   "metadata": {},
   "outputs": [],
   "source": [
    "np.where(['i never chose to run the race' in x for x in df['poem']])"
   ]
  },
  {
   "cell_type": "code",
   "execution_count": null,
   "metadata": {},
   "outputs": [],
   "source": [
    "i = 1109"
   ]
  },
  {
   "cell_type": "code",
   "execution_count": null,
   "metadata": {},
   "outputs": [],
   "source": [
    "df['scansion'].iloc[i]"
   ]
  },
  {
   "cell_type": "code",
   "execution_count": null,
   "metadata": {},
   "outputs": [],
   "source": [
    "df['scansion_modified'].iloc[i]"
   ]
  },
  {
   "cell_type": "code",
   "execution_count": null,
   "metadata": {},
   "outputs": [],
   "source": [
    "df['metre'].iloc[552]"
   ]
  },
  {
   "cell_type": "code",
   "execution_count": null,
   "metadata": {},
   "outputs": [],
   "source": [
    "\n",
    "# Determine the scansion of each poem, and which lines to combine based on this scansion.\n",
    "df['poem_as_list'] = [poem.split('>') for poem in df['poem']]\n",
    "df['scansion'] = [[get_line_scansion(line) for line in poem] for poem in df['poem_as_list']]\n",
    "df['lines_to_combine'] = [combine_line_scansions(x) for x in df['scansion']]\n",
    "\n",
    "# combine scansion and poem lines based on the suggested improvements.\n",
    "df['scansion_modified'] = [merge_lines(row['scansion'], row['lines_to_combine']) for ix, row in df.iterrows()]\n",
    "df['poem_modified_as_list'] = [merge_lines(row['poem_as_list'], row['lines_to_combine'], sep = ' ') for ix, row in df.iterrows()]\n",
    "df['poem_modified'] = ['>'.join(x) for x in df['poem_modified_as_list']]\n",
    "\n",
    "# Determine which of our known metres the poem is.\n",
    "df['metre_list'] = [get_known_metre(x, known_metres_inv) for x in df['scansion_modified']]\n",
    "df['metre'] = [', '.join(x) for x in df['metre_list']]"
   ]
  },
  {
   "cell_type": "code",
   "execution_count": null,
   "metadata": {},
   "outputs": [],
   "source": []
  },
  {
   "cell_type": "code",
   "execution_count": null,
   "metadata": {},
   "outputs": [],
   "source": []
  },
  {
   "cell_type": "code",
   "execution_count": null,
   "metadata": {},
   "outputs": [],
   "source": []
  },
  {
   "cell_type": "code",
   "execution_count": null,
   "metadata": {},
   "outputs": [],
   "source": []
  },
  {
   "cell_type": "code",
   "execution_count": null,
   "metadata": {},
   "outputs": [],
   "source": []
  },
  {
   "cell_type": "code",
   "execution_count": null,
   "metadata": {},
   "outputs": [],
   "source": []
  }
 ],
 "metadata": {
  "kernelspec": {
   "display_name": "Python 3",
   "language": "python",
   "name": "python3"
  },
  "language_info": {
   "codemirror_mode": {
    "name": "ipython",
    "version": 3
   },
   "file_extension": ".py",
   "mimetype": "text/x-python",
   "name": "python",
   "nbconvert_exporter": "python",
   "pygments_lexer": "ipython3",
   "version": "3.7.5"
  }
 },
 "nbformat": 4,
 "nbformat_minor": 2
}
