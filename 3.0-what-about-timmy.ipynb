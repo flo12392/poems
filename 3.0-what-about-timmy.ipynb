{
 "cells": [
  {
   "cell_type": "code",
   "execution_count": null,
   "metadata": {},
   "outputs": [],
   "source": [
    "%%capture\n",
    "%load_ext autoreload\n",
    "%autoreload 2\n",
    "\n",
    "import nltk\n",
    "from nltk.tokenize import RegexpTokenizer\n",
    "nltk.download('stopwords')\n",
    "nltk.download('punkt')"
   ]
  },
  {
   "cell_type": "code",
   "execution_count": null,
   "metadata": {},
   "outputs": [],
   "source": [
    "import string\n",
    "import datetime as dt\n",
    "import pandas as pd\n",
    "import numpy as np\n",
    "import time\n",
    "import re\n",
    "import os\n",
    "import pickle\n",
    "from src.string import clean_comment\n",
    "import textwrap\n",
    "import matplotlib.pyplot as plt \n",
    "from string import punctuation\n",
    "from plotly.offline import download_plotlyjs, init_notebook_mode\n",
    "import plotly.graph_objs as go\n",
    "init_notebook_mode(connected=False)\n",
    "\n",
    "from src.utils import print2_list, print2, export_ipynb_for_github_pages\n",
    "from src.plotly import plot_scatter, plot_histogram, plot_timeline, plot_horizontal_bar, plot_heatmap, \\\n",
    "plot_grouped_scatter, plot_multiple_timelines, plot_meter, plot_grouped_boxplot, plot_overlayed_histogram\n",
    "from src.meter import get_word_scansion, get_line_scansion, get_syllables_per_line_combined, \\\n",
    "combine_line_scansions, merge_lines, get_known_meter\n",
    "from src.data import load_data\n",
    "\n",
    "pd.set_option('display.max_rows', 500)\n",
    "pd.set_option('display.max_columns', 500)\n",
    "pd.set_option('display.width', 1000)\n",
    "pd.set_option('display.max_colwidth', -1)\n",
    "\n",
    "df = load_data('data/comments.txt', False)\n",
    "run_date = dt.datetime.today().date()\n",
    "df = df[df['date']<=run_date]\n",
    "df = df[df['type'] == 'poem']"
   ]
  },
  {
   "cell_type": "markdown",
   "metadata": {},
   "source": [
    "# Word analysis"
   ]
  },
  {
   "cell_type": "code",
   "execution_count": null,
   "metadata": {},
   "outputs": [],
   "source": [
    "tokenizer = RegexpTokenizer(r'\\w+')\n",
    "stop_words = nltk.corpus.stopwords.words('english')\n",
    "comments = df['poem'].str.cat(sep=' ')\n",
    "tokens = tokenizer.tokenize(comments)\n",
    "tokens = [t for t in tokens if not t in stop_words]\n",
    "frequency_dist = nltk.FreqDist(tokens)\n",
    "most_common = frequency_dist.most_common(80)"
   ]
  },
  {
   "cell_type": "code",
   "execution_count": null,
   "metadata": {},
   "outputs": [],
   "source": [
    "fig = plot_horizontal_bar(\n",
    "    labels = [x[0] for x in most_common[::-1]],\n",
    "    values = [x[1] for x in most_common[::-1]],\n",
    "    title = 'Most occuring words in comments by u/poem_for_your_sprog',\n",
    "    xaxis_title = 'Occurence',\n",
    "    yaxis_title='')\n",
    "fig.show()"
   ]
  },
  {
   "cell_type": "markdown",
   "metadata": {},
   "source": [
    "# What about Timmy?"
   ]
  },
  {
   "cell_type": "code",
   "execution_count": null,
   "metadata": {},
   "outputs": [],
   "source": [
    "comments_about_timmy = np.array(['timmy' in comment for comment in df['poem']])\n",
    "comments_about_timmy_fucking_dying = np.array(['timmy fucking died' in comment for comment in df['poem']])"
   ]
  },
  {
   "cell_type": "code",
   "execution_count": null,
   "metadata": {},
   "outputs": [],
   "source": [
    "print('Comments about Timmy: {}'.format(comments_about_timmy.sum()))\n",
    "print('Comments about Timmy fucking dying: {}'.format(comments_about_timmy_fucking_dying.sum()))\n",
    "print('Comments about Timmy that do not end with Timmy fucking dying: {}'\n",
    "      .format(comments_about_timmy.sum()-comments_about_timmy_fucking_dying.sum()))"
   ]
  },
  {
   "cell_type": "code",
   "execution_count": null,
   "metadata": {},
   "outputs": [],
   "source": [
    "fig = go.Figure(data=[\n",
    "                    go.Pie(\n",
    "                        labels=['Timmy fucking dying','Timmy not fucking dying'], \n",
    "                        values=[comments_about_timmy_fucking_dying.sum(),\n",
    "                             comments_about_timmy.sum()-comments_about_timmy_fucking_dying.sum()], hole=.3\n",
    "        )\n",
    "    ]\n",
    ")\n",
    "fig.update_layout(\n",
    "        template='simple_white'\n",
    ")\n",
    "fig.show()"
   ]
  },
  {
   "cell_type": "markdown",
   "metadata": {},
   "source": [
    "So.. What happens to Timmy if he doesn't fucking die?"
   ]
  },
  {
   "cell_type": "code",
   "execution_count": null,
   "metadata": {},
   "outputs": [],
   "source": [
    "df_timmy_not_dying = df[(comments_about_timmy) & (~comments_about_timmy_fucking_dying)]\n",
    "df_timmy_not_dying['ending'] = [x.split('>')[-1] for x in df_timmy_not_dying['poem']]\n",
    "df_timmy_not_dying = df_timmy_not_dying.sort_values('ups')"
   ]
  },
  {
   "cell_type": "code",
   "execution_count": null,
   "metadata": {},
   "outputs": [],
   "source": [
    "fig = plot_horizontal_bar(\n",
    "    labels = df_timmy_not_dying['ending'],\n",
    "    values = df_timmy_not_dying['ups'],\n",
    "    title = 'Best scoring alternative endings to poems about Timmy',\n",
    "    xaxis_title = 'Upvotes',\n",
    "    yaxis_title=''\n",
    ")\n",
    "fig.show()"
   ]
  },
  {
   "cell_type": "code",
   "execution_count": null,
   "metadata": {},
   "outputs": [],
   "source": [
    "df_timmy = df[comments_about_timmy]\n",
    "fig = plot_scatter(\n",
    "    x=df_timmy['total_awards_received'],\n",
    "    y=df_timmy['ups'],\n",
    "    text=['ups: {}<br>{}<br><br>'.format(row['ups'],row['awards_simple']) \n",
    "                  + re.sub('>','<br>',row['poem']) for index, row in (df_timmy).iterrows()],\n",
    "    title='Upvotes versus number of awards of the top poems by u/poem_for_your_sprog',\n",
    "    xaxis_title='Number of awards received',\n",
    "    yaxis_title='Upvotes'\n",
    "    )\n",
    "fig.show()"
   ]
  },
  {
   "cell_type": "code",
   "execution_count": null,
   "metadata": {},
   "outputs": [],
   "source": [
    "df_timmy = df[comments_about_timmy]"
   ]
  },
  {
   "cell_type": "code",
   "execution_count": null,
   "metadata": {},
   "outputs": [],
   "source": [
    "def get_parents(parent_id, parents):\n",
    "    r = requests.get(\"https://api.pushshift.io/reddit/comment/search/\",params={'ids':parent_id})\n",
    "    try:\n",
    "        comment = r.json()\n",
    "        parents.append(comment['data'][0]['body'])\n",
    "        parents = get_parents(comment['data'][0]['parent_id'], parents)\n",
    "    except:\n",
    "        None\n",
    "    return parents"
   ]
  },
  {
   "cell_type": "code",
   "execution_count": null,
   "metadata": {},
   "outputs": [],
   "source": [
    "# COMMENT PARENTS -----------------------------------------\n",
    "if os.path.isfile(\"data/timmy_comment_parents.p\"):\n",
    "    timmy_comment_parents = pickle.load(open(\"data/timmy_comment_parents.p\", \"rb\" ))\n",
    "    df_timmy['parents'] = df_timmy['id'].map(timmy_comment_parents)\n",
    "else:\n",
    "    timmy_comment_parents = {}\n",
    "    df_timmy['parents'] = None\n",
    "\n",
    "# If there are any new comments about Timmy, get their parents and update the pickle file.\n",
    "if np.any(df_timmy['parents'].isnull()):\n",
    "    # Get the parents of the new comments\n",
    "    df_timmy_new = df_timmy[df_timmy['parents'].isnull()]\n",
    "    timmy_comment_parents_new={}\n",
    "    for ix, row in df_timmy_new.iterrows():\n",
    "        timmy_comment_parents_new[row['id']] = get_parents(row['parent_id'],[])\n",
    "        \n",
    "    # Update the dict, the pickle file, and the DataFrame.\n",
    "    timmy_comment_parents.update(timmy_comment_parents_new)\n",
    "    df_timmy['parents'] = df_timmy['id'].map(timmy_comment_parents)\n",
    "    pickle.dump(timmy_comment_parents, open( \"data/timmy_comment_parents.p\", \"wb\" ) )"
   ]
  },
  {
   "cell_type": "code",
   "execution_count": null,
   "metadata": {},
   "outputs": [],
   "source": [
    "# POST TITLES -----------------------------------------\n",
    "if os.path.isfile(\"data/timmy_titles.p\"):\n",
    "    timmy_titles = pickle.load(open(\"data/timmy_titles.p\", \"rb\" ))\n",
    "    df_timmy['title'] = df_timmy['id'].map(timmy_titles)\n",
    "else:\n",
    "    timmy_titles = {}\n",
    "    df_timmy['title'] = None\n",
    "\n",
    "# If there are any new comments about Timmy, get their parents and update the pickle file.\n",
    "if np.any(df_timmy['title'].isnull()):\n",
    "    # Get the parents of the new comments\n",
    "    df_timmy_new = df_timmy[df_timmy['title'].isnull()]\n",
    "    timmy_titles_new={}\n",
    "    for ix, row in df_timmy_new.iterrows():\n",
    "        r = requests.get(\"https://api.pushshift.io/reddit/submission/search/\",params={'ids':row['link_id']})\n",
    "        timmy_titles_new[row['id']] = r.json()['data'][0]['title']\n",
    "        time.sleep(1)\n",
    "        \n",
    "    # Update the dict, the pickle file, and the DataFrame.\n",
    "    timmy_titles.update(timmy_titles_new)\n",
    "    df_timmy['title'] = df_timmy['id'].map(timmy_titles)\n",
    "    pickle.dump(timmy_titles, open( \"data/timmy_titles.p\", \"wb\" ) )"
   ]
  },
  {
   "cell_type": "code",
   "execution_count": null,
   "metadata": {},
   "outputs": [],
   "source": [
    "df_timmy['title'] = ['>'.join(textwrap.wrap(clean_comment(x), width=100)) for x in df_timmy['title']]\n",
    "df_timmy['parents'] = [['>'.join(textwrap.wrap(clean_comment(y),width=100)) for y in x] for x in df_timmy['parents']]\n",
    "df_timmy['parents'] = ['>--->'.join(x[::-1]) for x in df_timmy['parents']]"
   ]
  },
  {
   "cell_type": "code",
   "execution_count": null,
   "metadata": {},
   "outputs": [],
   "source": [
    "fig = plot_scatter(\n",
    "    x=df_timmy['date'],\n",
    "    y=df_timmy['ups'],\n",
    "    text=[ '<b>' + re.sub('>','<br>',row['title']) + '</b>'\n",
    "                  + '<br><br>'\n",
    "                  + re.sub('>','<br>',row['parents'])\n",
    "                  + '<br>---<br>'\n",
    "                  + re.sub('>','<br>',row['poem']) for index, row in (df_timmy).iterrows()],\n",
    "    title='Upvotes versus number of awards of the top poems by u/poem_for_your_sprog',\n",
    "    xaxis_title='Number of awards received',\n",
    "    yaxis_title='Upvotes'\n",
    "    )\n",
    "fig.show()"
   ]
  },
  {
   "cell_type": "code",
   "execution_count": null,
   "metadata": {},
   "outputs": [],
   "source": [
    "df_timmy"
   ]
  },
  {
   "cell_type": "code",
   "execution_count": null,
   "metadata": {},
   "outputs": [],
   "source": []
  }
 ],
 "metadata": {
  "kernelspec": {
   "display_name": "Python 3",
   "language": "python",
   "name": "python3"
  },
  "language_info": {
   "codemirror_mode": {
    "name": "ipython",
    "version": 3
   },
   "file_extension": ".py",
   "mimetype": "text/x-python",
   "name": "python",
   "nbconvert_exporter": "python",
   "pygments_lexer": "ipython3",
   "version": "3.7.5"
  }
 },
 "nbformat": 4,
 "nbformat_minor": 2
}
